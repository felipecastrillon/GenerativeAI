{
 "cells": [
  {
   "cell_type": "markdown",
   "metadata": {
    "id": "Sxq-V_jV4gEk",
    "tags": []
   },
   "source": [
    "# Using the Vertex AI PaLM API to explain BQML Clustering - Our Very Own Persona Builder"
   ]
  },
  {
   "cell_type": "markdown",
   "metadata": {
    "tags": []
   },
   "source": [
    "## Here's what we're going to build:"
   ]
  },
  {
   "cell_type": "markdown",
   "metadata": {},
   "source": [
    "<p align=\"center\">\n",
    "  <img alt=\"Conceptual Flow\" src=\"slides/process0.png\" width=\"100%\">\n",
    "</p>"
   ]
  },
  {
   "cell_type": "markdown",
   "metadata": {
    "id": "sHoUOuxf5GOR",
    "tags": []
   },
   "source": [
    "# Core code\n",
    "Let's define some variables that will be used throughout this notebook.\n",
    "\n",
    "These are the GCP Project ID `project_id`, the Model name `model_name` which is any name you prefer, and finally the Dataset name `dataset_name`.\n",
    "The dataset needs to exist in the same Project as `project_id` and you'll need appropriate access to create and delete."
   ]
  },
  {
   "cell_type": "markdown",
   "metadata": {
    "tags": []
   },
   "source": [
    "## Setup"
   ]
  },
  {
   "cell_type": "code",
   "execution_count": 22,
   "metadata": {
    "id": "fU3_zsLsZ89c"
   },
   "outputs": [],
   "source": [
    "from typing import Union\n",
    "import sys\n",
    "\n",
    "import os\n",
    "import io\n",
    "import json\n",
    "import base64\n",
    "import requests\n",
    "import concurrent.futures\n",
    "import time\n",
    "\n",
    "import numpy as np\n",
    "import pandas as pd\n",
    "\n",
    "import vertexai.preview.language_models\n",
    "from google.cloud import aiplatform\n",
    "from google.cloud import documentai\n",
    "from google.cloud.documentai_v1 import Document\n",
    "from google.cloud import storage\n",
    "from google.cloud import bigquery\n",
    "\n",
    "from IPython.display import display, Markdown, Latex\n"
   ]
  },
  {
   "cell_type": "code",
   "execution_count": 23,
   "metadata": {
    "id": "_3Rfhx874F2J"
   },
   "outputs": [],
   "source": [
    "PROJECT_ID = 'felipe-sandbox-354619'\n",
    "REGION = 'us-central1'\n",
    "DATASET = \"bqml_demos\" \n",
    "BQML_MODEL = \"ecommerce_customer_segment_cluster5\" \n",
    "EVAL = BQML_MODEL + \"_eval\"\n"
   ]
  },
  {
   "cell_type": "code",
   "execution_count": 24,
   "metadata": {},
   "outputs": [],
   "source": [
    "# vertex ai clients\n",
    "vertexai.init(project = PROJECT_ID, location = REGION)\n",
    "aiplatform.init(project = PROJECT_ID, location = REGION)\n",
    "\n",
    "# bigquery client\n",
    "bq = bigquery.Client(project = PROJECT_ID)"
   ]
  },
  {
   "cell_type": "markdown",
   "metadata": {
    "id": "WnXQQOAc4t22",
    "tags": []
   },
   "source": [
    "## Create a K-means model to cluster ecommerce data"
   ]
  },
  {
   "cell_type": "markdown",
   "metadata": {},
   "source": [
    "### Let's look at the data first"
   ]
  },
  {
   "cell_type": "markdown",
   "metadata": {},
   "source": [
    "### Let's look at the data first"
   ]
  },
  {
   "cell_type": "markdown",
   "metadata": {},
   "source": [
    "<p align=\"center\">\n",
    "  <img alt=\"Conceptual Flow\" src=\"slides/process1.png\" width=\"100%\">\n",
    "</p>"
   ]
  },
  {
   "cell_type": "code",
   "execution_count": 25,
   "metadata": {},
   "outputs": [
    {
     "name": "stdout",
     "output_type": "stream",
     "text": [
      "hello\n"
     ]
    }
   ],
   "source": [
    "print (\"hello\")"
   ]
  },
  {
   "cell_type": "markdown",
   "metadata": {
    "colab": {
     "base_uri": "https://localhost:8080/",
     "height": 206
    },
    "id": "V6-JiJZBGmO7",
    "outputId": "88ba2b72-5c73-434f-94ea-5025ec7f7e7c"
   },
   "source": [
    "#@bigquery\n",
    "SELECT\n",
    "  user_id,\n",
    "  order_id,\n",
    "  sale_price,\n",
    "  created_at as order_created_date\n",
    "FROM `bigquery-public-data.thelook_ecommerce.order_items`\n",
    "WHERE created_at BETWEEN CAST('2022-01-01 00:00:00' AS TIMESTAMP)\n",
    "AND CAST('2024-01-01 00:00:00' AS TIMESTAMP)\n"
   ]
  },
  {
   "cell_type": "markdown",
   "metadata": {
    "id": "jQKfCgZ9FZH5",
    "tags": []
   },
   "source": [
    "### `CREATE MODEL` using `KMEANS`\n",
    "\n",
    "Create a query then start the model creation job, using a python loop to wait for the job to complete"
   ]
  },
  {
   "cell_type": "markdown",
   "metadata": {},
   "source": [
    "<p align=\"center\">\n",
    "  <img alt=\"Conceptual Flow\" src=\"slides/process2.png\" width=\"100%\">\n",
    "</p>"
   ]
  },
  {
   "cell_type": "markdown",
   "metadata": {
    "id": "KiB2gPEvFkkd"
   },
   "source": [
    "#@bigquery\n",
    "\n",
    "CREATE OR REPLACE MODEL `bqml_demos.ecommerce_customer_segment_cluster`\n",
    "OPTIONS (\n",
    "  MODEL_TYPE = \"KMEANS\",\n",
    "  NUM_CLUSTERS = 5,\n",
    "  KMEANS_INIT_METHOD = \"KMEANS++\",\n",
    "  STANDARDIZE_FEATURES = TRUE )\n",
    "AS (\n",
    "SELECT * EXCEPT (user_id)\n",
    "FROM (\n",
    "  SELECT user_id,\n",
    "    DATE_DIFF(CURRENT_DATE(), CAST(MAX(order_created_date) as DATE), day) AS days_since_order, -- RECENCY\n",
    "    COUNT(order_id) AS count_orders, -- FREQUENCY\n",
    "    AVG(sale_price) AS avg_spend -- MONETARY\n",
    "  FROM (\n",
    "    SELECT user_id,\n",
    "      order_id,\n",
    "      sale_price,\n",
    "      created_at as order_created_date\n",
    "    FROM `bigquery-public-data.thelook_ecommerce.order_items`\n",
    "    WHERE created_at BETWEEN CAST('2022-01-01 00:00:00' AS TIMESTAMP)\n",
    "    AND CAST('2024-01-01 00:00:00' AS TIMESTAMP)\n",
    "  )\n",
    "  GROUP BY user_id, order_id\n",
    " )\n",
    ")\n"
   ]
  },
  {
   "cell_type": "markdown",
   "metadata": {
    "id": "mYN7F_f3PeE5"
   },
   "source": [
    "Let's take a look at the model's clustering performance, using these metrics - Davies Bouldin Index and Mean Squared Distance"
   ]
  },
  {
   "cell_type": "markdown",
   "metadata": {
    "colab": {
     "base_uri": "https://localhost:8080/",
     "height": 98
    },
    "id": "wDy9-26SFnuS",
    "outputId": "9cfb0a00-d7eb-470c-ef9f-d709d5b6bbb7"
   },
   "source": [
    "#@bigquery\n",
    "SELECT *\n",
    "FROM ML.EVALUATE(MODEL `bqml_demos.ecommerce_customer_segment_cluster`)"
   ]
  },
  {
   "cell_type": "markdown",
   "metadata": {
    "id": "t1RNh1NqPpJ2"
   },
   "source": [
    "### Now let's get the cluster (centroid) information"
   ]
  },
  {
   "cell_type": "markdown",
   "metadata": {},
   "source": [
    "<p align=\"center\">\n",
    "  <img alt=\"Conceptual Flow\" src=\"slides/process3.png\" width=\"100%\">\n",
    "</p>"
   ]
  },
  {
   "cell_type": "code",
   "execution_count": 26,
   "metadata": {
    "colab": {
     "base_uri": "https://localhost:8080/",
     "height": 224
    },
    "id": "H2czyn5zPvhJ",
    "outputId": "01887c23-2c83-44fc-ae8a-366ba2f9c828"
   },
   "outputs": [
    {
     "data": {
      "application/vnd.jupyter.widget-view+json": {
       "model_id": "929fa0c144fe4e7da44e7e3659610c83",
       "version_major": 2,
       "version_minor": 0
      },
      "text/plain": [
       "Query is running:   0%|          |"
      ]
     },
     "metadata": {},
     "output_type": "display_data"
    },
    {
     "data": {
      "application/vnd.jupyter.widget-view+json": {
       "model_id": "a5d0a20a5ca1469bb58bc5128e32f792",
       "version_major": 2,
       "version_minor": 0
      },
      "text/plain": [
       "Downloading:   0%|          |"
      ]
     },
     "metadata": {},
     "output_type": "display_data"
    }
   ],
   "source": [
    "%%bigquery centroids\n",
    "SELECT\n",
    "  CONCAT('cluster ', CAST(centroid_id as STRING)) as centroid,\n",
    "  avg_spend as average_spend,\n",
    "  count_orders as count_of_orders,\n",
    "  days_since_order\n",
    "FROM (\n",
    "  SELECT centroid_id, feature, ROUND(numerical_value, 2) as value\n",
    "  FROM ML.CENTROIDS(MODEL `bqml_demos.ecommerce_customer_segment_cluster`)\n",
    ")\n",
    "PIVOT (\n",
    "  SUM(value)\n",
    "  FOR feature IN ('avg_spend',  'count_orders', 'days_since_order')\n",
    ")\n",
    "ORDER BY centroid_id"
   ]
  },
  {
   "cell_type": "code",
   "execution_count": 27,
   "metadata": {},
   "outputs": [
    {
     "data": {
      "text/html": [
       "<div>\n",
       "<style scoped>\n",
       "    .dataframe tbody tr th:only-of-type {\n",
       "        vertical-align: middle;\n",
       "    }\n",
       "\n",
       "    .dataframe tbody tr th {\n",
       "        vertical-align: top;\n",
       "    }\n",
       "\n",
       "    .dataframe thead th {\n",
       "        text-align: right;\n",
       "    }\n",
       "</style>\n",
       "<table border=\"1\" class=\"dataframe\">\n",
       "  <thead>\n",
       "    <tr style=\"text-align: right;\">\n",
       "      <th></th>\n",
       "      <th>centroid</th>\n",
       "      <th>average_spend</th>\n",
       "      <th>count_of_orders</th>\n",
       "      <th>days_since_order</th>\n",
       "    </tr>\n",
       "  </thead>\n",
       "  <tbody>\n",
       "    <tr>\n",
       "      <th>0</th>\n",
       "      <td>cluster 1</td>\n",
       "      <td>43.19</td>\n",
       "      <td>1.23</td>\n",
       "      <td>97.68</td>\n",
       "    </tr>\n",
       "    <tr>\n",
       "      <th>1</th>\n",
       "      <td>cluster 2</td>\n",
       "      <td>58.80</td>\n",
       "      <td>3.51</td>\n",
       "      <td>387.13</td>\n",
       "    </tr>\n",
       "    <tr>\n",
       "      <th>2</th>\n",
       "      <td>cluster 3</td>\n",
       "      <td>58.68</td>\n",
       "      <td>3.50</td>\n",
       "      <td>94.02</td>\n",
       "    </tr>\n",
       "    <tr>\n",
       "      <th>3</th>\n",
       "      <td>cluster 4</td>\n",
       "      <td>46.86</td>\n",
       "      <td>1.22</td>\n",
       "      <td>395.26</td>\n",
       "    </tr>\n",
       "    <tr>\n",
       "      <th>4</th>\n",
       "      <td>cluster 5</td>\n",
       "      <td>199.60</td>\n",
       "      <td>1.18</td>\n",
       "      <td>181.50</td>\n",
       "    </tr>\n",
       "  </tbody>\n",
       "</table>\n",
       "</div>"
      ],
      "text/plain": [
       "    centroid  average_spend  count_of_orders  days_since_order\n",
       "0  cluster 1          43.19             1.23             97.68\n",
       "1  cluster 2          58.80             3.51            387.13\n",
       "2  cluster 3          58.68             3.50             94.02\n",
       "3  cluster 4          46.86             1.22            395.26\n",
       "4  cluster 5         199.60             1.18            181.50"
      ]
     },
     "execution_count": 27,
     "metadata": {},
     "output_type": "execute_result"
    }
   ],
   "source": [
    "centroids"
   ]
  },
  {
   "cell_type": "markdown",
   "metadata": {
    "id": "Xhha_o_qPwJY"
   },
   "source": [
    "Whew! That's a lot of metrics and cluster info. How about we explain this to our colleagues using the magic of LLMs."
   ]
  },
  {
   "cell_type": "code",
   "execution_count": 28,
   "metadata": {
    "colab": {
     "base_uri": "https://localhost:8080/"
    },
    "id": "AWzyZUFdRQll",
    "outputId": "12058437-f5e8-4877-b6d1-2bcf976495e7"
   },
   "outputs": [
    {
     "name": "stdout",
     "output_type": "stream",
     "text": [
      "cluster 1, average spend $43.19, count of orders per person 1.23, days since last order 97.68\n",
      "cluster 2, average spend $58.8, count of orders per person 3.51, days since last order 387.13\n",
      "cluster 3, average spend $58.68, count of orders per person 3.5, days since last order 94.02\n",
      "cluster 4, average spend $46.86, count of orders per person 1.22, days since last order 395.26\n",
      "cluster 5, average spend $199.6, count of orders per person 1.18, days since last order 181.5\n"
     ]
    }
   ],
   "source": [
    "centroids.to_string(header=False, index=False)\n",
    "\n",
    "cluster_info = []\n",
    "for i, row in centroids.iterrows():\n",
    "  cluster_info.append(\"{0}, average spend ${2}, count of orders per person {1}, days since last order {3}\"\n",
    "    .format(row[\"centroid\"], row[\"count_of_orders\"], row[\"average_spend\"], row[\"days_since_order\"]) )\n",
    "\n",
    "print(str.join(\"\\n\", cluster_info))"
   ]
  },
  {
   "cell_type": "markdown",
   "metadata": {
    "id": "7Na0_rVVLhOk",
    "tags": []
   },
   "source": [
    "## Explain with Vertex AI PaLM API"
   ]
  },
  {
   "cell_type": "markdown",
   "metadata": {
    "id": "tdoRB7RjLso6"
   },
   "source": [
    "### First, we want to instantiate the large language model and create the prompt"
   ]
  },
  {
   "cell_type": "markdown",
   "metadata": {},
   "source": [
    "<p align=\"center\">\n",
    "  <img alt=\"Conceptual Flow\" src=\"slides/process4.png\" width=\"100%\">\n",
    "</p>"
   ]
  },
  {
   "cell_type": "code",
   "execution_count": 29,
   "metadata": {},
   "outputs": [],
   "source": [
    "textgen_model = vertexai.preview.language_models.TextGenerationModel.from_pretrained('text-bison@001')"
   ]
  },
  {
   "cell_type": "code",
   "execution_count": 30,
   "metadata": {
    "colab": {
     "base_uri": "https://localhost:8080/"
    },
    "id": "MYwQNH0ELu9y",
    "outputId": "2204e6ec-e489-40e7-8cc3-485578ca5302",
    "tags": []
   },
   "outputs": [
    {
     "data": {
      "text/markdown": [
       "## Prompt:"
      ],
      "text/plain": [
       "<IPython.core.display.Markdown object>"
      ]
     },
     "metadata": {},
     "output_type": "display_data"
    },
    {
     "name": "stdout",
     "output_type": "stream",
     "text": [
      "Pretend you're a creative strategist, given the following clusters come up with creative brand persona and title labels for each of these clusters, and explain step by step; what would be the next marketing step for these clusters:\n",
      "\n",
      "\n",
      "cluster 1, average spend $43.19, count of orders per person 1.23, days since last order 97.68\n",
      "cluster 2, average spend $58.8, count of orders per person 3.51, days since last order 387.13\n",
      "cluster 3, average spend $58.68, count of orders per person 3.5, days since last order 94.02\n",
      "cluster 4, average spend $46.86, count of orders per person 1.22, days since last order 395.26\n",
      "cluster 5, average spend $199.6, count of orders per person 1.18, days since last order 181.5\n"
     ]
    }
   ],
   "source": [
    "preamble = \"Pretend you're a creative strategist, given the following clusters come up with creative brand persona and title labels for each of these clusters, and explain step by step; what would be the next marketing step for these clusters:\"\n",
    "display(Markdown('## Prompt:'))\n",
    "print(preamble)\n",
    "print('\\n')\n",
    "print(str.join(\"\\n\", cluster_info))"
   ]
  },
  {
   "cell_type": "markdown",
   "metadata": {},
   "source": [
    "### Now, we send our prompt to Google GenAI API for some LLM magic"
   ]
  },
  {
   "cell_type": "markdown",
   "metadata": {},
   "source": [
    "<p align=\"center\">\n",
    "  <img alt=\"Conceptual Flow\" src=\"slides/process5.png\" width=\"100%\">\n",
    "</p>"
   ]
  },
  {
   "cell_type": "code",
   "execution_count": 31,
   "metadata": {},
   "outputs": [
    {
     "data": {
      "text/markdown": [
       "## Response:"
      ],
      "text/plain": [
       "<IPython.core.display.Markdown object>"
      ]
     },
     "metadata": {},
     "output_type": "display_data"
    },
    {
     "data": {
      "text/markdown": [
       "8 **Cluster 1: The Occasional Shopper**\n",
       "\n",
       "This cluster is made up of people who make small, infrequent purchases. They are typically looking for something specific and are not interested in browsing. The average spend in this cluster is $43.19, the count of orders per person is 1.23, and the days since last order is 97.68.\n",
       "\n",
       "**Brand persona:** The Occasional Shopper is a busy person who is always on the go. They are looking for a quick and easy way to get the things they need without having to spend a lot of time or money.\n",
       "\n",
       "**Title label:** The Occasional Shopper\n",
       "\n",
       "**Next marketing step:** The next marketing step for this cluster is to focus on convenience and speed. This could be done by offering free shipping, same-day delivery, or a wider selection of products that can be purchased online.\n",
       "\n",
       "**Cluster 2: The Loyal Customer**\n",
       "\n",
       "This cluster is made up of people who make regular, large purchases. They are typically loyal to a particular brand or store and are not interested in trying new things. The average spend in this cluster is $58.80, the count of orders per person is 3.51, and the days since last order is 387.13.\n",
       "\n",
       "**Brand persona:** The Loyal Customer is a brand enthusiast who is always looking for new ways to show their loyalty. They are typically well-informed about the products they buy and are not afraid to spend money on them.\n",
       "\n",
       "**Title label:** The Loyal Customer\n",
       "\n",
       "**Next marketing step:** The next marketing step for this cluster is to focus on building relationships and loyalty. This could be done by offering exclusive rewards, personalized service, or a loyalty program.\n",
       "\n",
       "**Cluster 3: The Frequent Shopper**\n",
       "\n",
       "This cluster is made up of people who make multiple, small purchases on a regular basis. They are typically looking for deals and discounts and are not afraid to shop around. The average spend in this cluster is $58.68, the count of orders per person is 3.50, and the days since last order is 94.02.\n",
       "\n",
       "**Brand persona:** The Frequent Shopper is a bargain hunter who is always looking for the best deal. They are typically well-informed about the products they buy and are not afraid to switch brands if they find a better price.\n",
       "\n",
       "**Title label:** The Frequent Shopper\n",
       "\n",
       "**Next marketing step:** The next marketing step for this cluster is to focus on value and savings. This could be done by offering coupons, discounts, or sales.\n",
       "\n",
       "**Cluster 4: The Disengaged Shopper**\n",
       "\n",
       "This cluster is made up of people who have not made a purchase in a long time. They are typically not interested in shopping and are not likely to return to the store. The average spend in this cluster is $46.86, the count of orders per person is 1.22, and the days since last order is 395.26.\n",
       "\n",
       "**Brand persona:** The Disengaged Shopper is a person who has lost interest in the brand. They may have had a bad experience in the past or they may simply be looking for something different.\n",
       "\n",
       "**Title label:** The Disengaged Shopper\n",
       "\n",
       "**Next marketing step:** The next marketing step for this cluster is to try to win them back. This could be done by offering a special deal, sending them a personalized email, or reaching out to them on social media.\n",
       "\n",
       "**Cluster 5: The High-Value Customer**\n",
       "\n",
       "This cluster is made up of people who make large, infrequent purchases. They are typically looking for something special and are not afraid to spend money. The average spend in this cluster is $199.60, the count of orders per person is 1.18, and the days since last order is 181.58.\n",
       "\n",
       "**Brand persona:** The High-Value Customer is a luxury shopper who is always looking for the best possible experience. They are typically well-informed about the products they buy and are not afraid to pay a premium for quality.\n",
       "\n",
       "**Title label:** The High-Value Customer\n",
       "\n",
       "**Next marketing step:** The next marketing step for this cluster is to focus on exclusivity and personalization. This could be done by offering private shopping events, personalized service, or a concierge program."
      ],
      "text/plain": [
       "<IPython.core.display.Markdown object>"
      ]
     },
     "metadata": {},
     "output_type": "display_data"
    }
   ],
   "source": [
    "display(Markdown('## Response:'))\n",
    "\n",
    "# Send prompt to LLM\n",
    "response = textgen_model.predict(\n",
    "   preamble + \"\\n\" + str.join(\"\\n\", cluster_info),\n",
    "    max_output_tokens=1024,\n",
    "    temperature=0.35,\n",
    "    top_p=0.8,\n",
    "    top_k=40,\n",
    ")\n",
    "\n",
    "display(Markdown(str(response)))"
   ]
  },
  {
   "cell_type": "markdown",
   "metadata": {
    "id": "jqC5uUguaunY"
   },
   "source": [
    "Voila! We've now used k-means clustering to create groups of spenders and explain their profiles."
   ]
  },
  {
   "cell_type": "markdown",
   "metadata": {
    "id": "5HEVHGmmRyGW"
   },
   "source": [
    "Sometimes, though, you want a little bit [extra](https://cloud.google.com/blog/transform/prompt-debunking-five-generative-ai-misconceptions)."
   ]
  },
  {
   "cell_type": "code",
   "execution_count": 20,
   "metadata": {
    "colab": {
     "base_uri": "https://localhost:8080/"
    },
    "id": "3HgwtN1tR3xQ",
    "outputId": "92324c01-5949-49d2-c62d-b6ca35cea2d7"
   },
   "outputs": [
    {
     "data": {
      "text/markdown": [
       "## Prompt:"
      ],
      "text/plain": [
       "<IPython.core.display.Markdown object>"
      ]
     },
     "metadata": {},
     "output_type": "display_data"
    },
    {
     "name": "stdout",
     "output_type": "stream",
     "text": [
      "Pretend you're a creative strategist, fo each of the below clusters specify their favorite movie and a and a witty e-mail headline for marketing campaign targeted to their group: \n",
      "\n",
      "\n"
     ]
    },
    {
     "data": {
      "text/markdown": [
       "## Response:"
      ],
      "text/plain": [
       "<IPython.core.display.Markdown object>"
      ]
     },
     "metadata": {},
     "output_type": "display_data"
    },
    {
     "data": {
      "text/markdown": [
       "**Cluster 1: The Occasional Shopper**\n",
       "\n",
       "* Favorite movie: The Princess Bride\n",
       "* Witty email headline: \"Fancy a cup of coffee? We'll sweeten the deal with a 20% discount!\"\n",
       "\n",
       "**Cluster 2: The Loyal Customer**\n",
       "\n",
       "* Favorite movie: The Godfather\n",
       "* Witty email headline: \"We're your family. Treat yourself to a 10% discount on your next purchase.\"\n",
       "\n",
       "**Cluster 3: The Impulsive Shopper**\n",
       "\n",
       "* Favorite movie: The Hangover\n",
       "* Witty email headline: \"You're in for a wild ride! Get 25% off our latest collection of crazy clothes.\"\n",
       "\n",
       "**Cluster 4: The Price-Sensitive Shopper**\n",
       "\n",
       "* Favorite movie: The Shawshank Redemption\n",
       "* Witty email headline: \"You can't buy freedom, but you can buy this TV for 50% off!\"\n",
       "\n",
       "**Cluster 5: The Luxury Shopper**\n",
       "\n",
       "* Favorite movie: The Great Gatsby\n",
       "* Witty email headline: \"Live like Gatsby with our exclusive collection of luxury goods.\""
      ],
      "text/plain": [
       "<IPython.core.display.Markdown object>"
      ]
     },
     "metadata": {},
     "output_type": "display_data"
    }
   ],
   "source": [
    "preamble = \"Pretend you're a creative strategist, for each of the below clusters specify their favorite movie and a and a witty e-mail headline for marketing campaign targeted to their group: \"\n",
    "\n",
    "display(Markdown('## Prompt:'))\n",
    "print(preamble)\n",
    "print('\\n')\n",
    "display(Markdown('## Response:'))\n",
    "display(Markdown(str(textgen_model.predict(\n",
    "   preamble + \"\\n\" + response.text,\n",
    "    max_output_tokens=1024,\n",
    "    temperature=0.35,\n",
    "    top_p=0.8,\n",
    "    top_k=40,\n",
    "))))"
   ]
  },
  {
   "cell_type": "code",
   "execution_count": 21,
   "metadata": {},
   "outputs": [
    {
     "data": {
      "text/markdown": [
       "## Prompt:"
      ],
      "text/plain": [
       "<IPython.core.display.Markdown object>"
      ]
     },
     "metadata": {},
     "output_type": "display_data"
    },
    {
     "name": "stdout",
     "output_type": "stream",
     "text": [
      "Pretend you're a creative strategist, for each the clusters below includes the detail of their favorite movie,and a description of an image that describes scenery related to their favorite movie:\n",
      "\n",
      "\n",
      "cluster 1, average spend $43.19, count of orders per person 1.23, days since last order 97.68\n",
      "cluster 2, average spend $58.8, count of orders per person 3.51, days since last order 387.13\n",
      "cluster 3, average spend $58.68, count of orders per person 3.5, days since last order 94.02\n",
      "cluster 4, average spend $46.86, count of orders per person 1.22, days since last order 395.26\n",
      "cluster 5, average spend $199.6, count of orders per person 1.18, days since last order 181.5\n"
     ]
    },
    {
     "data": {
      "text/markdown": [
       "## Response:"
      ],
      "text/plain": [
       "<IPython.core.display.Markdown object>"
      ]
     },
     "metadata": {},
     "output_type": "display_data"
    },
    {
     "data": {
      "text/markdown": [
       " **Cluster 1: The Occasional Shopper**\n",
       "\n",
       "* Favorite Movie: The Wizard of Oz\n",
       "* Scenery Image: A field of poppies, with the Emerald City in the distance.\n",
       "\n",
       "**Cluster 2: The Loyal Customer**\n",
       "\n",
       "* Favorite Movie: The Lord of the Rings\n",
       "* Scenery Image: The Shire, with the mountains of Mordor in the distance.\n",
       "\n",
       "**Cluster 3: The Impulsive Shopper**\n",
       "\n",
       "* Favorite Movie: The Fast and the Furious\n",
       "* Scenery Image: A busy street in Tokyo, with the neon lights of the cityscape in the background.\n",
       "\n",
       "**Cluster 4: The Price-Sensitive Shopper**\n",
       "\n",
       "* Favorite Movie: The Hangover\n",
       "* Scenery Image: A Las Vegas strip club, with the flashing lights and the sounds of music in the background.\n",
       "\n",
       "**Cluster 5: The Luxury Shopper**\n",
       "\n",
       "* Favorite Movie: The Great Gatsby\n",
       "* Scenery Image: A mansion in the Hamptons, with the ocean and the beach in the background."
      ],
      "text/plain": [
       "<IPython.core.display.Markdown object>"
      ]
     },
     "metadata": {},
     "output_type": "display_data"
    }
   ],
   "source": [
    "preamble = \"Pretend you're a creative strategist, for each the clusters below includes the detail of their favorite movie,and a description of an image that describes scenery related to their favorite movie:\"\n",
    "\n",
    "display(Markdown('## Prompt:'))\n",
    "print(preamble)\n",
    "print('\\n')\n",
    "print(str.join(\"\\n\", cluster_info))\n",
    "display(Markdown('## Response:'))\n",
    "display(Markdown(str(textgen_model.predict(\n",
    "   preamble + \"\\n\" + response.text,\n",
    "    max_output_tokens=1024,\n",
    "    temperature=0.35,\n",
    "    top_p=0.8,\n",
    "    top_k=40,\n",
    "))))"
   ]
  },
  {
   "cell_type": "code",
   "execution_count": 32,
   "metadata": {},
   "outputs": [
    {
     "data": {
      "text/markdown": [
       "## Prompt:"
      ],
      "text/plain": [
       "<IPython.core.display.Markdown object>"
      ]
     },
     "metadata": {},
     "output_type": "display_data"
    },
    {
     "name": "stdout",
     "output_type": "stream",
     "text": [
      "Pretend you're a creative strategist, for each of the following clusters below, come up their favorite food and a detailed description of an image containing their favorite food:\n",
      "\n",
      "\n"
     ]
    },
    {
     "data": {
      "text/markdown": [
       "## Response:"
      ],
      "text/plain": [
       "<IPython.core.display.Markdown object>"
      ]
     },
     "metadata": {},
     "output_type": "display_data"
    },
    {
     "data": {
      "text/markdown": [
       "**Cluster 1: The Occasional Shopper**\n",
       "\n",
       "**Favorite food:** Pizza\n",
       "\n",
       "**Image description:** A photo of a pizza with pepperoni, mushrooms, and olives. The pizza is on a plate with a knife and fork next to it. The background is a dark blue color.\n",
       "\n",
       "**Cluster 2: The Loyal Customer**\n",
       "\n",
       "**Favorite food:** Steak\n",
       "\n",
       "**Image description:** A photo of a steak with a baked potato and vegetables. The steak is on a plate with a knife and fork next to it. The background is a white color.\n",
       "\n",
       "**Cluster 3: The Frequent Shopper**\n",
       "\n",
       "**Favorite food:** Sushi\n",
       "\n",
       "**Image description:** A photo of a sushi roll with salmon, avocado, and cucumber. The sushi roll is on a plate with chopsticks next to it. The background is a light green color.\n",
       "\n",
       "**Cluster 4: The Disengaged Shopper**\n",
       "\n",
       "**Favorite food:** Ice cream\n",
       "\n",
       "**Image description:** A photo of a bowl of ice cream with chocolate sauce, whipped cream, and a cherry on top. The ice cream is on a plate with a spoon next to it. The background is a light brown color.\n",
       "\n",
       "**Cluster 5: The High-Value Customer**\n",
       "\n",
       "**Favorite food:** Lobster\n",
       "\n",
       "**Image description:** A photo of a lobster tail with melted butter and lemon wedges. The lobster tail is on a plate with a fork next to it. The background is a dark red color."
      ],
      "text/plain": [
       "<IPython.core.display.Markdown object>"
      ]
     },
     "metadata": {},
     "output_type": "display_data"
    }
   ],
   "source": [
    "preamble = \"Pretend you're a creative strategist, for each of the following clusters below, come up their favorite food and a detailed description of an image containing their favorite food:\"\n",
    "\n",
    "display(Markdown('## Prompt:'))\n",
    "print(preamble)\n",
    "print('\\n')\n",
    "display(Markdown('## Response:'))\n",
    "display(Markdown(str(textgen_model.predict(\n",
    "   preamble + \"\\n\" + response.text,\n",
    "    max_output_tokens=1024,\n",
    "    temperature=0.35,\n",
    "    top_p=0.8,\n",
    "    top_k=40,\n",
    "))))"
   ]
  },
  {
   "cell_type": "code",
   "execution_count": 13,
   "metadata": {},
   "outputs": [],
   "source": [
    "def persona_builder(preamble):\n",
    "    pre_text = \"Pretend you're a creative strategist, given the following clusters \"\n",
    "    prompt = pre_text + preamble + \"\\n\" + str.join(\"\\n\", cluster_info)\n",
    "    result = textgen_model.predict(\n",
    "        prompt,\n",
    "        max_output_tokens=1024,\n",
    "        temperature=0.35,\n",
    "        top_p=0.8,\n",
    "        top_k=40,\n",
    "    )\n",
    "    \n",
    "    return prompt, result"
   ]
  },
  {
   "cell_type": "markdown",
   "metadata": {
    "tags": []
   },
   "source": [
    "#### Notes"
   ]
  },
  {
   "cell_type": "markdown",
   "metadata": {},
   "source": [
    "A beautiful mountain range with snow-capped peaks and a river running through it. The sun is shining and the sky is blue.  Photorealistic"
   ]
  },
  {
   "cell_type": "markdown",
   "metadata": {},
   "source": [
    "come up with creative brand persona for each that includes the detail of their favorite movie, a summary of how this relates to their purchasing behavior, and a witty e-mail headline for marketing campaign targeted to their group"
   ]
  },
  {
   "cell_type": "markdown",
   "metadata": {
    "tags": []
   },
   "source": [
    "## Now we can stick it behind a UI"
   ]
  },
  {
   "cell_type": "markdown",
   "metadata": {},
   "source": [
    "<p align=\"center\">\n",
    "  <img alt=\"Conceptual Flow\" src=\"slides/process6.png\" width=\"100%\">\n",
    "</p>"
   ]
  },
  {
   "cell_type": "code",
   "execution_count": 14,
   "metadata": {},
   "outputs": [
    {
     "name": "stdout",
     "output_type": "stream",
     "text": [
      "Running on local URL:  http://127.0.0.1:7860\n",
      "\n",
      "To create a public link, set `share=True` in `launch()`.\n"
     ]
    },
    {
     "data": {
      "text/html": [
       "<div><iframe src=\"http://127.0.0.1:7860/\" width=\"100%\" height=\"500\" allow=\"autoplay; camera; microphone; clipboard-read; clipboard-write;\" frameborder=\"0\" allowfullscreen></iframe></div>"
      ],
      "text/plain": [
       "<IPython.core.display.HTML object>"
      ]
     },
     "metadata": {},
     "output_type": "display_data"
    },
    {
     "data": {
      "text/plain": []
     },
     "execution_count": 14,
     "metadata": {},
     "output_type": "execute_result"
    }
   ],
   "source": [
    "import gradio as gr\n",
    "\n",
    "with gr.Blocks() as demo:\n",
    "    gr.Markdown(\n",
    "    \"\"\"\n",
    "    ## Persona Builder and Marketing Bot\n",
    "\n",
    "    ### Enter a task...\n",
    "\n",
    "    \"\"\")\n",
    "    with gr.Row():\n",
    "      with gr.Column():\n",
    "        input_text = gr.Textbox(label=\"Task\", placeholder=\"Pretend you're a creative strategist, given the following clusters: \")\n",
    "        \n",
    "        \n",
    "    with gr.Row():\n",
    "      generate = gr.Button(\"Generate Response\")\n",
    "\n",
    "    with gr.Row():\n",
    "      label2 = gr.Textbox(label=\"Prompt\")\n",
    "    with gr.Row():\n",
    "      label3 = gr.Textbox(label=\"Response generated by LLM\")\n",
    "\n",
    "    generate.click(persona_builder,input_text, [label2, label3])\n",
    "demo.launch(share=False, debug=False)"
   ]
  },
  {
   "cell_type": "code",
   "execution_count": null,
   "metadata": {},
   "outputs": [],
   "source": []
  }
 ],
 "metadata": {
  "colab": {
   "provenance": []
  },
  "kernelspec": {
   "display_name": "Python (Local)",
   "language": "python",
   "name": "local-base"
  },
  "language_info": {
   "codemirror_mode": {
    "name": "ipython",
    "version": 3
   },
   "file_extension": ".py",
   "mimetype": "text/x-python",
   "name": "python",
   "nbconvert_exporter": "python",
   "pygments_lexer": "ipython3",
   "version": "3.7.12"
  }
 },
 "nbformat": 4,
 "nbformat_minor": 4
}
