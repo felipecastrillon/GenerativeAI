{
 "cells": [
  {
   "cell_type": "markdown",
   "id": "5e4c803d-9346-436a-90f2-c260460f1c50",
   "metadata": {},
   "source": [
    "If needed upgrade google cloud aiplatform to >=1.36.0, you will need Python >=3.8\n",
    "\n",
    "Once you upgrade your packages then restart your kernel"
   ]
  },
  {
   "cell_type": "code",
   "execution_count": 41,
   "id": "5f859368-a8c0-4803-9dc3-94cf02bf519b",
   "metadata": {
    "tags": []
   },
   "outputs": [],
   "source": [
    "#pip install --user google-cloud-aiplatform --upgrade"
   ]
  },
  {
   "cell_type": "code",
   "execution_count": 1,
   "id": "544dae06-be4a-4c84-a442-c69c4af093a5",
   "metadata": {
    "tags": []
   },
   "outputs": [
    {
     "name": "stdout",
     "output_type": "stream",
     "text": [
      "Python 3.10.13\n"
     ]
    }
   ],
   "source": [
    "!python3 --version"
   ]
  },
  {
   "cell_type": "code",
   "execution_count": 3,
   "id": "73732a63-5297-4097-9ca1-4902b0728d23",
   "metadata": {
    "tags": []
   },
   "outputs": [
    {
     "data": {
      "text/plain": [
       "'1.36.1'"
      ]
     },
     "execution_count": 3,
     "metadata": {},
     "output_type": "execute_result"
    }
   ],
   "source": [
    "from google.cloud import aiplatform\n",
    "aiplatform.__version__"
   ]
  },
  {
   "cell_type": "code",
   "execution_count": 6,
   "id": "f1c36018-711f-4eee-95bf-1920897ce17b",
   "metadata": {
    "tags": []
   },
   "outputs": [],
   "source": [
    "import pandas as pd\n",
    "import numpy as np\n",
    "import matplotlib.pyplot as plt\n",
    "import vertexai\n",
    "from vertexai.language_models import CodeChatModel"
   ]
  },
  {
   "cell_type": "code",
   "execution_count": 22,
   "id": "bb7579e4-cbd5-4a93-9651-45fe833f8651",
   "metadata": {
    "tags": []
   },
   "outputs": [],
   "source": [
    "PROJECT_ID=\"felipe-sandbox-354619\"\n",
    "MODEL=\"codechat-bison\""
   ]
  },
  {
   "cell_type": "code",
   "execution_count": 23,
   "id": "d74161ae-1dc5-4a0c-944a-9bca4482b0df",
   "metadata": {
    "tags": []
   },
   "outputs": [],
   "source": [
    "#inititate vertex code generation model\n",
    "vertexai.init(project=PROJECT_ID, location=\"us-central1\")\n",
    "chat_model = CodeChatModel.from_pretrained(MODEL)\n",
    "chat = chat_model.start_chat()"
   ]
  },
  {
   "cell_type": "code",
   "execution_count": 24,
   "id": "1da15692-717c-4b47-ac44-0b4d716ef23b",
   "metadata": {
    "tags": []
   },
   "outputs": [
    {
     "data": {
      "text/plain": [
       "'1.36.1'"
      ]
     },
     "execution_count": 24,
     "metadata": {},
     "output_type": "execute_result"
    }
   ],
   "source": [
    "aiplatform.__version__"
   ]
  },
  {
   "cell_type": "code",
   "execution_count": 25,
   "id": "954f3965-4669-4f17-9c7c-540380c56c06",
   "metadata": {
    "tags": []
   },
   "outputs": [
    {
     "data": {
      "application/vnd.jupyter.widget-view+json": {
       "model_id": "a90bbee5d3024d149f61e056694161c4",
       "version_major": 2,
       "version_minor": 0
      },
      "text/plain": [
       "Query is running:   0%|          |"
      ]
     },
     "metadata": {},
     "output_type": "display_data"
    },
    {
     "data": {
      "application/vnd.jupyter.widget-view+json": {
       "model_id": "be1673ad527f4e73b5f537eaedaaaaa2",
       "version_major": 2,
       "version_minor": 0
      },
      "text/plain": [
       "Downloading:   0%|          |"
      ]
     },
     "metadata": {},
     "output_type": "display_data"
    }
   ],
   "source": [
    "%%bigquery df\n",
    "SELECT * FROM `bigquery-public-data.iowa_liquor_sales.sales`\n",
    "WHERE store_name = \"WAL-MART 3394 / ATLANTIC\"\n",
    "AND date >= date(\"2023-01-01\")"
   ]
  },
  {
   "cell_type": "code",
   "execution_count": 35,
   "id": "91c26f33-bf7a-4c22-9fe6-c15a6aeeeea9",
   "metadata": {
    "tags": []
   },
   "outputs": [],
   "source": [
    "df['date'] = pd.to_datetime(df['date'])"
   ]
  },
  {
   "cell_type": "code",
   "execution_count": 36,
   "id": "b4de9ce1-977b-4a94-b0b9-a42efc22d4cd",
   "metadata": {
    "tags": []
   },
   "outputs": [
    {
     "data": {
      "text/html": [
       "<div>\n",
       "<style scoped>\n",
       "    .dataframe tbody tr th:only-of-type {\n",
       "        vertical-align: middle;\n",
       "    }\n",
       "\n",
       "    .dataframe tbody tr th {\n",
       "        vertical-align: top;\n",
       "    }\n",
       "\n",
       "    .dataframe thead th {\n",
       "        text-align: right;\n",
       "    }\n",
       "</style>\n",
       "<table border=\"1\" class=\"dataframe\">\n",
       "  <thead>\n",
       "    <tr style=\"text-align: right;\">\n",
       "      <th></th>\n",
       "      <th>invoice_and_item_number</th>\n",
       "      <th>date</th>\n",
       "      <th>store_number</th>\n",
       "      <th>store_name</th>\n",
       "      <th>address</th>\n",
       "      <th>city</th>\n",
       "      <th>zip_code</th>\n",
       "      <th>store_location</th>\n",
       "      <th>county_number</th>\n",
       "      <th>county</th>\n",
       "      <th>category</th>\n",
       "      <th>category_name</th>\n",
       "      <th>vendor_number</th>\n",
       "      <th>vendor_name</th>\n",
       "      <th>item_number</th>\n",
       "      <th>item_description</th>\n",
       "      <th>pack</th>\n",
       "      <th>bottle_volume_ml</th>\n",
       "      <th>state_bottle_cost</th>\n",
       "      <th>state_bottle_retail</th>\n",
       "      <th>bottles_sold</th>\n",
       "      <th>sale_dollars</th>\n",
       "      <th>volume_sold_liters</th>\n",
       "      <th>volume_sold_gallons</th>\n",
       "    </tr>\n",
       "  </thead>\n",
       "  <tbody>\n",
       "    <tr>\n",
       "      <th>0</th>\n",
       "      <td>INV-60753500003</td>\n",
       "      <td>2023-07-28</td>\n",
       "      <td>3833</td>\n",
       "      <td>WAL-MART 3394 / ATLANTIC</td>\n",
       "      <td>1905 EAST 7TH ST</td>\n",
       "      <td>ATLANTIC</td>\n",
       "      <td>50022.0</td>\n",
       "      <td>POINT(-94.985986964 41.401588009)</td>\n",
       "      <td>None</td>\n",
       "      <td>CASS</td>\n",
       "      <td>1012100.0</td>\n",
       "      <td>CANADIAN WHISKIES</td>\n",
       "      <td>434</td>\n",
       "      <td>LUXCO INC</td>\n",
       "      <td>10935</td>\n",
       "      <td>HAWKEYE CANADIAN WHISKY</td>\n",
       "      <td>6</td>\n",
       "      <td>1750</td>\n",
       "      <td>9.50</td>\n",
       "      <td>14.25</td>\n",
       "      <td>6</td>\n",
       "      <td>85.50</td>\n",
       "      <td>10.5</td>\n",
       "      <td>2.77</td>\n",
       "    </tr>\n",
       "    <tr>\n",
       "      <th>1</th>\n",
       "      <td>INV-57955300025</td>\n",
       "      <td>2023-04-28</td>\n",
       "      <td>3833</td>\n",
       "      <td>WAL-MART 3394 / ATLANTIC</td>\n",
       "      <td>1905 EAST 7TH ST</td>\n",
       "      <td>ATLANTIC</td>\n",
       "      <td>50022.0</td>\n",
       "      <td>POINT(-94.9859869639999 41.4015880090001)</td>\n",
       "      <td>None</td>\n",
       "      <td>CASS</td>\n",
       "      <td>1031100.0</td>\n",
       "      <td>AMERICAN VODKAS</td>\n",
       "      <td>260</td>\n",
       "      <td>DIAGEO AMERICAS</td>\n",
       "      <td>37998</td>\n",
       "      <td>SMIRNOFF 80PRF</td>\n",
       "      <td>6</td>\n",
       "      <td>1750</td>\n",
       "      <td>14.75</td>\n",
       "      <td>22.13</td>\n",
       "      <td>6</td>\n",
       "      <td>132.78</td>\n",
       "      <td>10.5</td>\n",
       "      <td>2.77</td>\n",
       "    </tr>\n",
       "    <tr>\n",
       "      <th>2</th>\n",
       "      <td>INV-57114700013</td>\n",
       "      <td>2023-03-31</td>\n",
       "      <td>3833</td>\n",
       "      <td>WAL-MART 3394 / ATLANTIC</td>\n",
       "      <td>1905 EAST 7TH ST</td>\n",
       "      <td>ATLANTIC</td>\n",
       "      <td>50022</td>\n",
       "      <td>POINT(-94.9873 41.40387)</td>\n",
       "      <td>None</td>\n",
       "      <td>CASS</td>\n",
       "      <td>1032100.0</td>\n",
       "      <td>IMPORTED VODKAS</td>\n",
       "      <td>370</td>\n",
       "      <td>PERNOD RICARD USA</td>\n",
       "      <td>34004</td>\n",
       "      <td>ABSOLUT SWEDISH VODKA 80PRF</td>\n",
       "      <td>24</td>\n",
       "      <td>375</td>\n",
       "      <td>4.99</td>\n",
       "      <td>7.49</td>\n",
       "      <td>24</td>\n",
       "      <td>179.76</td>\n",
       "      <td>9.0</td>\n",
       "      <td>2.37</td>\n",
       "    </tr>\n",
       "    <tr>\n",
       "      <th>3</th>\n",
       "      <td>INV-61597400020</td>\n",
       "      <td>2023-08-25</td>\n",
       "      <td>3833</td>\n",
       "      <td>WAL-MART 3394 / ATLANTIC</td>\n",
       "      <td>1905 EAST 7TH ST</td>\n",
       "      <td>ATLANTIC</td>\n",
       "      <td>50022.0</td>\n",
       "      <td>POINT(-94.985986964 41.401588009)</td>\n",
       "      <td>None</td>\n",
       "      <td>CASS</td>\n",
       "      <td>1031100.0</td>\n",
       "      <td>AMERICAN VODKAS</td>\n",
       "      <td>421</td>\n",
       "      <td>SAZERAC COMPANY  INC</td>\n",
       "      <td>35944</td>\n",
       "      <td>FLEISCHMANNS 80PRF VODKA</td>\n",
       "      <td>24</td>\n",
       "      <td>375</td>\n",
       "      <td>1.74</td>\n",
       "      <td>2.61</td>\n",
       "      <td>24</td>\n",
       "      <td>62.64</td>\n",
       "      <td>9.0</td>\n",
       "      <td>2.37</td>\n",
       "    </tr>\n",
       "    <tr>\n",
       "      <th>4</th>\n",
       "      <td>INV-59045500013</td>\n",
       "      <td>2023-06-03</td>\n",
       "      <td>3833</td>\n",
       "      <td>WAL-MART 3394 / ATLANTIC</td>\n",
       "      <td>1905 EAST 7TH ST</td>\n",
       "      <td>ATLANTIC</td>\n",
       "      <td>50022.0</td>\n",
       "      <td>POINT(-94.985986964 41.401588009)</td>\n",
       "      <td>None</td>\n",
       "      <td>CASS</td>\n",
       "      <td>1042100.0</td>\n",
       "      <td>IMPORTED DRY GINS</td>\n",
       "      <td>260</td>\n",
       "      <td>DIAGEO AMERICAS</td>\n",
       "      <td>28868</td>\n",
       "      <td>TANQUERAY GIN</td>\n",
       "      <td>6</td>\n",
       "      <td>1750</td>\n",
       "      <td>26.49</td>\n",
       "      <td>39.74</td>\n",
       "      <td>6</td>\n",
       "      <td>238.44</td>\n",
       "      <td>10.5</td>\n",
       "      <td>2.77</td>\n",
       "    </tr>\n",
       "  </tbody>\n",
       "</table>\n",
       "</div>"
      ],
      "text/plain": [
       "  invoice_and_item_number       date store_number                store_name  \\\n",
       "0         INV-60753500003 2023-07-28         3833  WAL-MART 3394 / ATLANTIC   \n",
       "1         INV-57955300025 2023-04-28         3833  WAL-MART 3394 / ATLANTIC   \n",
       "2         INV-57114700013 2023-03-31         3833  WAL-MART 3394 / ATLANTIC   \n",
       "3         INV-61597400020 2023-08-25         3833  WAL-MART 3394 / ATLANTIC   \n",
       "4         INV-59045500013 2023-06-03         3833  WAL-MART 3394 / ATLANTIC   \n",
       "\n",
       "            address      city zip_code  \\\n",
       "0  1905 EAST 7TH ST  ATLANTIC  50022.0   \n",
       "1  1905 EAST 7TH ST  ATLANTIC  50022.0   \n",
       "2  1905 EAST 7TH ST  ATLANTIC    50022   \n",
       "3  1905 EAST 7TH ST  ATLANTIC  50022.0   \n",
       "4  1905 EAST 7TH ST  ATLANTIC  50022.0   \n",
       "\n",
       "                              store_location county_number county   category  \\\n",
       "0          POINT(-94.985986964 41.401588009)          None   CASS  1012100.0   \n",
       "1  POINT(-94.9859869639999 41.4015880090001)          None   CASS  1031100.0   \n",
       "2                   POINT(-94.9873 41.40387)          None   CASS  1032100.0   \n",
       "3          POINT(-94.985986964 41.401588009)          None   CASS  1031100.0   \n",
       "4          POINT(-94.985986964 41.401588009)          None   CASS  1042100.0   \n",
       "\n",
       "       category_name vendor_number           vendor_name item_number  \\\n",
       "0  CANADIAN WHISKIES           434             LUXCO INC       10935   \n",
       "1    AMERICAN VODKAS           260       DIAGEO AMERICAS       37998   \n",
       "2    IMPORTED VODKAS           370     PERNOD RICARD USA       34004   \n",
       "3    AMERICAN VODKAS           421  SAZERAC COMPANY  INC       35944   \n",
       "4  IMPORTED DRY GINS           260       DIAGEO AMERICAS       28868   \n",
       "\n",
       "              item_description  pack  bottle_volume_ml  state_bottle_cost  \\\n",
       "0      HAWKEYE CANADIAN WHISKY     6              1750               9.50   \n",
       "1               SMIRNOFF 80PRF     6              1750              14.75   \n",
       "2  ABSOLUT SWEDISH VODKA 80PRF    24               375               4.99   \n",
       "3     FLEISCHMANNS 80PRF VODKA    24               375               1.74   \n",
       "4                TANQUERAY GIN     6              1750              26.49   \n",
       "\n",
       "   state_bottle_retail  bottles_sold  sale_dollars  volume_sold_liters  \\\n",
       "0                14.25             6         85.50                10.5   \n",
       "1                22.13             6        132.78                10.5   \n",
       "2                 7.49            24        179.76                 9.0   \n",
       "3                 2.61            24         62.64                 9.0   \n",
       "4                39.74             6        238.44                10.5   \n",
       "\n",
       "   volume_sold_gallons  \n",
       "0                 2.77  \n",
       "1                 2.77  \n",
       "2                 2.37  \n",
       "3                 2.37  \n",
       "4                 2.77  "
      ]
     },
     "execution_count": 36,
     "metadata": {},
     "output_type": "execute_result"
    }
   ],
   "source": [
    "pd.set_option('display.max_columns', None)\n",
    "df_head = df.head(5)\n",
    "df_head"
   ]
  },
  {
   "cell_type": "code",
   "execution_count": 37,
   "id": "5dc9f07a-b3f2-4d3f-a738-d4592bbbaf14",
   "metadata": {
    "tags": []
   },
   "outputs": [
    {
     "data": {
      "text/plain": [
       "invoice_and_item_number            object\n",
       "date                       datetime64[ns]\n",
       "store_number                       object\n",
       "store_name                         object\n",
       "address                            object\n",
       "city                               object\n",
       "zip_code                           object\n",
       "store_location                     object\n",
       "county_number                      object\n",
       "county                             object\n",
       "category                           object\n",
       "category_name                      object\n",
       "vendor_number                      object\n",
       "vendor_name                        object\n",
       "item_number                        object\n",
       "item_description                   object\n",
       "pack                                Int64\n",
       "bottle_volume_ml                    Int64\n",
       "state_bottle_cost                 float64\n",
       "state_bottle_retail               float64\n",
       "bottles_sold                        Int64\n",
       "sale_dollars                      float64\n",
       "volume_sold_liters                float64\n",
       "volume_sold_gallons               float64\n",
       "dtype: object"
      ]
     },
     "execution_count": 37,
     "metadata": {},
     "output_type": "execute_result"
    }
   ],
   "source": [
    "df.dtypes"
   ]
  },
  {
   "cell_type": "code",
   "execution_count": 27,
   "id": "63c9ce22-9280-46d3-b9d0-96c5dad70bbc",
   "metadata": {
    "tags": []
   },
   "outputs": [],
   "source": [
    "df_head = df.head(10)\n",
    "schema = df.dtypes\n",
    "\n",
    "PREFIX = \"\"\"\n",
    "        Instructions:\n",
    "        You are working with a pandas dataframe in Python. The name of the dataframe is `df`.\n",
    "        Your job is to generate python code based on the questions asked by the user.\n",
    "        This code should be ready to be executed inside a python environment therefore you do not need to include the \"python\" keyword.\n",
    "        Please finish the code with a print statement or a plot of the results\n",
    "\n",
    "        You can use the following libraries:\n",
    "        - pandas\n",
    "        - numpy\n",
    "        - matplotlib\n",
    "\n",
    "        This is the schema of the dataframe:\n",
    "        {schema}\n",
    "        This is the result of `print(df.head())`:\n",
    "        {df_head}\n",
    "        Begin!\n",
    "        Question:\"\"\".format(df_head=df_head, schema=schema)\n",
    "\n",
    "SUFFIX = \"\"\"\n",
    "        Answer:\"\"\"\n",
    "\n",
    "\n",
    "def generate_pandas_code(prompt, prefix=PREFIX, suffix=SUFFIX ):\n",
    "\n",
    "  parameters = {\n",
    "      \"candidate_count\": 1,\n",
    "      \"max_output_tokens\": 1024,\n",
    "      \"temperature\": 0.2\n",
    "  }\n",
    "\n",
    "  prompt = prefix + prompt + suffix\n",
    "\n",
    "  response = chat.send_message(prompt, **parameters).text\n",
    "  print(response)\n",
    "  # delete first line of the response\n",
    "  edit_res = response.replace(response.split('\\n')[0]+\"\\n\", '')\n",
    "  # delete last line of the response\n",
    "  edit_res = edit_res.replace(edit_res.split('\\n')[-1], '')\n",
    "\n",
    "  return edit_res\n",
    "\n",
    "\n",
    "def execute_code(code):\n",
    "  try:\n",
    "    print(\"Excecuting code...\")\n",
    "    print(eval(code))\n",
    "    print(\"Done excecuting code...\")\n",
    "  except Exception as e:\n",
    "    print(e)"
   ]
  },
  {
   "cell_type": "code",
   "execution_count": 28,
   "id": "ca00fc69-d6b8-4fbb-af2f-022aa7c659cb",
   "metadata": {
    "tags": []
   },
   "outputs": [
    {
     "name": "stdout",
     "output_type": "stream",
     "text": [
      " ```python\n",
      "df['bottles_sold'].sum()\n",
      "```\n",
      "Excecuting code...\n",
      "17244\n",
      "Done excecuting code...\n"
     ]
    }
   ],
   "source": [
    "prompt = \"How many bottles were sold?\"\n",
    "execute_code(generate_pandas_code(prompt))"
   ]
  },
  {
   "cell_type": "code",
   "execution_count": 38,
   "id": "95427151-0ace-4ddf-9364-89b194e0a446",
   "metadata": {
    "tags": []
   },
   "outputs": [
    {
     "name": "stdout",
     "output_type": "stream",
     "text": [
      " ```python\n",
      "df[df['date'].dt.month == 8]['sale_dollars'].sum()\n",
      "```\n",
      "Excecuting code...\n",
      "31770.18\n",
      "Done excecuting code...\n"
     ]
    }
   ],
   "source": [
    "prompt = \"What was the total revenue for August of this year?\"\n",
    "execute_code(generate_pandas_code(prompt))"
   ]
  },
  {
   "cell_type": "code",
   "execution_count": 33,
   "id": "c067437c-a59d-4f5f-9609-e3f6cb90608d",
   "metadata": {
    "tags": []
   },
   "outputs": [
    {
     "name": "stdout",
     "output_type": "stream",
     "text": [
      " ```python\n",
      "df['category_name'].value_counts().nlargest(10)\n",
      "```\n",
      "Excecuting code...\n",
      "category_name\n",
      "AMERICAN VODKAS              347\n",
      "CANADIAN WHISKIES            203\n",
      "STRAIGHT BOURBON WHISKIES    138\n",
      "SPICED RUM                   125\n",
      "BLENDED WHISKIES              85\n",
      "WHISKEY LIQUEUR               82\n",
      "TENNESSEE WHISKIES            66\n",
      "COCKTAILS/RTD                 62\n",
      "WHITE RUM                     56\n",
      "AMERICAN FLAVORED VODKA       52\n",
      "Name: count, dtype: int64\n",
      "Done excecuting code...\n"
     ]
    }
   ],
   "source": [
    "prompt = \"What were my top 10 categories in terms of bottles sold?\"\n",
    "execute_code(generate_pandas_code(prompt))"
   ]
  },
  {
   "cell_type": "code",
   "execution_count": 40,
   "id": "5b7dce49-92b5-4873-ab73-9f9b84b81d67",
   "metadata": {
    "tags": []
   },
   "outputs": [
    {
     "name": "stdout",
     "output_type": "stream",
     "text": [
      " ```python\n",
      "df.groupby('date')['sale_dollars'].sum().plot()\n",
      "```\n",
      "Excecuting code...\n",
      "Axes(0.125,0.2;0.775x0.68)\n",
      "Done excecuting code...\n",
      "Excecuting code...\n",
      "eval() arg 1 must be a string, bytes or code object\n"
     ]
    },
    {
     "data": {
      "image/png": "[encoded data removed]",
      "text/plain": [
       "<Figure size 640x480 with 1 Axes>"
      ]
     },
     "metadata": {},
     "output_type": "display_data"
    }
   ],
   "source": [
    "prompt = \"Can you plot sales per day?\"\n",
    "execute_code(execute_code(generate_pandas_code(prompt)))"
   ]
  }
 ],
 "metadata": {
  "environment": {
   "kernel": "conda-root-py",
   "name": "workbench-notebooks.m113",
   "type": "gcloud",
   "uri": "gcr.io/deeplearning-platform-release/workbench-notebooks:m113"
  },
  "kernelspec": {
   "display_name": "Python 3 (ipykernel) (Local)",
   "language": "python",
   "name": "conda-root-py"
  },
  "language_info": {
   "codemirror_mode": {
    "name": "ipython",
    "version": 3
   },
   "file_extension": ".py",
   "mimetype": "text/x-python",
   "name": "python",
   "nbconvert_exporter": "python",
   "pygments_lexer": "ipython3",
   "version": "3.10.13"
  }
 },
 "nbformat": 4,
 "nbformat_minor": 5
}
