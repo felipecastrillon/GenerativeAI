{
 "cells": [
  {
   "cell_type": "markdown",
   "id": "cbf4ffbc-6a47-4227-83fd-ceb6c337a2f8",
   "metadata": {},
   "source": [
    "Download this dataset to a local file https://www.kaggle.com/datasets/gowrishankarp/newspaper-text-summarization-cnn-dailymail"
   ]
  },
  {
   "cell_type": "code",
   "execution_count": 52,
   "id": "2aa53b38-db3f-4aff-afaf-de9731e7a2fa",
   "metadata": {},
   "outputs": [
    {
     "data": {
      "text/html": [
       "<div>\n",
       "<style scoped>\n",
       "    .dataframe tbody tr th:only-of-type {\n",
       "        vertical-align: middle;\n",
       "    }\n",
       "\n",
       "    .dataframe tbody tr th {\n",
       "        vertical-align: top;\n",
       "    }\n",
       "\n",
       "    .dataframe thead th {\n",
       "        text-align: right;\n",
       "    }\n",
       "</style>\n",
       "<table border=\"1\" class=\"dataframe\">\n",
       "  <thead>\n",
       "    <tr style=\"text-align: right;\">\n",
       "      <th></th>\n",
       "      <th>article</th>\n",
       "      <th>highlights</th>\n",
       "    </tr>\n",
       "  </thead>\n",
       "  <tbody>\n",
       "    <tr>\n",
       "      <th>0</th>\n",
       "      <td>Ever noticed how plane seats appear to be gett...</td>\n",
       "      <td>Experts question if  packed out planes are put...</td>\n",
       "    </tr>\n",
       "    <tr>\n",
       "      <th>1</th>\n",
       "      <td>A drunk teenage boy had to be rescued by secur...</td>\n",
       "      <td>Drunk teenage boy climbed into lion enclosure ...</td>\n",
       "    </tr>\n",
       "    <tr>\n",
       "      <th>2</th>\n",
       "      <td>Dougie Freedman is on the verge of agreeing a ...</td>\n",
       "      <td>Nottingham Forest are close to extending Dougi...</td>\n",
       "    </tr>\n",
       "    <tr>\n",
       "      <th>3</th>\n",
       "      <td>Liverpool target Neto is also wanted by PSG an...</td>\n",
       "      <td>Fiorentina goalkeeper Neto has been linked wit...</td>\n",
       "    </tr>\n",
       "    <tr>\n",
       "      <th>4</th>\n",
       "      <td>Bruce Jenner will break his silence in a two-h...</td>\n",
       "      <td>Tell-all interview with the reality TV star, 6...</td>\n",
       "    </tr>\n",
       "  </tbody>\n",
       "</table>\n",
       "</div>"
      ],
      "text/plain": [
       "                                             article  \\\n",
       "0  Ever noticed how plane seats appear to be gett...   \n",
       "1  A drunk teenage boy had to be rescued by secur...   \n",
       "2  Dougie Freedman is on the verge of agreeing a ...   \n",
       "3  Liverpool target Neto is also wanted by PSG an...   \n",
       "4  Bruce Jenner will break his silence in a two-h...   \n",
       "\n",
       "                                          highlights  \n",
       "0  Experts question if  packed out planes are put...  \n",
       "1  Drunk teenage boy climbed into lion enclosure ...  \n",
       "2  Nottingham Forest are close to extending Dougi...  \n",
       "3  Fiorentina goalkeeper Neto has been linked wit...  \n",
       "4  Tell-all interview with the reality TV star, 6...  "
      ]
     },
     "execution_count": 52,
     "metadata": {},
     "output_type": "execute_result"
    }
   ],
   "source": [
    "import pandas as pd\n",
    "df = pd.read_csv(\"test.csv\", nrows=5).drop(columns=\"id\")\n",
    "df.head()"
   ]
  },
  {
   "cell_type": "code",
   "execution_count": 54,
   "id": "f9ce9b24-d874-442c-9e20-87a0eab594a7",
   "metadata": {},
   "outputs": [
    {
     "name": "stdout",
     "output_type": "stream",
     "text": [
      "Response from Model: 1. What is your experience with project management methodologies and tools?\n",
      "2. How do you handle multiple projects at once and prioritize tasks?\n",
      "3. What is your approach to risk management?\n",
      "4. How do you communicate with stakeholders and keep them updated on the progress of your projects?\n",
      "5. What are your strengths and weaknesses as a project manager?\n"
     ]
    }
   ],
   "source": [
    "# instantiate model\n",
    "from vertexai.preview.language_models import TextGenerationModel\n",
    "\n",
    "parameters = {\n",
    "    \"temperature\": 0.2,  # Temperature controls the degree of randomness in token selection.\n",
    "    \"max_output_tokens\": 256,  # Token limit determines the maximum amount of text output.\n",
    "    \"top_p\": 0.8,  # Tokens are selected from most probable to least until the sum of their probabilities equals the top_p value.\n",
    "    \"top_k\": 40,  # A top_k of 1 means the selected token is the most probable among all tokens.\n",
    "}\n",
    "\n",
    "model = TextGenerationModel.from_pretrained(\"text-bison@001\")\n",
    "\n",
    "#test out a response\n",
    "response = model.predict(\n",
    "    \"Give me 5 interview questions for the role of program manager.\",\n",
    "    **parameters,\n",
    ")\n",
    "print(f\"Response from Model: {response.text}\")\n"
   ]
  },
  {
   "cell_type": "code",
   "execution_count": 116,
   "id": "636d0cde-910e-46de-a411-c4f4fa24b498",
   "metadata": {},
   "outputs": [
    {
     "data": {
      "text/html": [
       "<div>\n",
       "<style scoped>\n",
       "    .dataframe tbody tr th:only-of-type {\n",
       "        vertical-align: middle;\n",
       "    }\n",
       "\n",
       "    .dataframe tbody tr th {\n",
       "        vertical-align: top;\n",
       "    }\n",
       "\n",
       "    .dataframe thead th {\n",
       "        text-align: right;\n",
       "    }\n",
       "</style>\n",
       "<table border=\"1\" class=\"dataframe\">\n",
       "  <thead>\n",
       "    <tr style=\"text-align: right;\">\n",
       "      <th></th>\n",
       "      <th>article</th>\n",
       "      <th>highlights</th>\n",
       "      <th>generated_answer</th>\n",
       "      <th>similarity_score</th>\n",
       "    </tr>\n",
       "  </thead>\n",
       "  <tbody>\n",
       "    <tr>\n",
       "      <th>0</th>\n",
       "      <td>Ever noticed how plane seats appear to be gett...</td>\n",
       "      <td>Experts question if  packed out planes are put...</td>\n",
       "      <td>The author discusses how the shrinking space o...</td>\n",
       "      <td>0.813708</td>\n",
       "    </tr>\n",
       "    <tr>\n",
       "      <th>1</th>\n",
       "      <td>A drunk teenage boy had to be rescued by secur...</td>\n",
       "      <td>Drunk teenage boy climbed into lion enclosure ...</td>\n",
       "      <td>In Ahmedabad, India, a drunk 17-year-old boy j...</td>\n",
       "      <td>0.936408</td>\n",
       "    </tr>\n",
       "    <tr>\n",
       "      <th>2</th>\n",
       "      <td>Dougie Freedman is on the verge of agreeing a ...</td>\n",
       "      <td>Nottingham Forest are close to extending Dougi...</td>\n",
       "      <td>Dougie Freedman is on the verge of signing a n...</td>\n",
       "      <td>0.932517</td>\n",
       "    </tr>\n",
       "    <tr>\n",
       "      <th>3</th>\n",
       "      <td>Liverpool target Neto is also wanted by PSG an...</td>\n",
       "      <td>Fiorentina goalkeeper Neto has been linked wit...</td>\n",
       "      <td>Liverpool are interested in signing Fiorentina...</td>\n",
       "      <td>0.926570</td>\n",
       "    </tr>\n",
       "    <tr>\n",
       "      <th>4</th>\n",
       "      <td>Bruce Jenner will break his silence in a two-h...</td>\n",
       "      <td>Tell-all interview with the reality TV star, 6...</td>\n",
       "      <td>Bruce Jenner will speak out in a 'far-reaching...</td>\n",
       "      <td>0.922733</td>\n",
       "    </tr>\n",
       "  </tbody>\n",
       "</table>\n",
       "</div>"
      ],
      "text/plain": [
       "                                             article  \\\n",
       "0  Ever noticed how plane seats appear to be gett...   \n",
       "1  A drunk teenage boy had to be rescued by secur...   \n",
       "2  Dougie Freedman is on the verge of agreeing a ...   \n",
       "3  Liverpool target Neto is also wanted by PSG an...   \n",
       "4  Bruce Jenner will break his silence in a two-h...   \n",
       "\n",
       "                                          highlights  \\\n",
       "0  Experts question if  packed out planes are put...   \n",
       "1  Drunk teenage boy climbed into lion enclosure ...   \n",
       "2  Nottingham Forest are close to extending Dougi...   \n",
       "3  Fiorentina goalkeeper Neto has been linked wit...   \n",
       "4  Tell-all interview with the reality TV star, 6...   \n",
       "\n",
       "                                    generated_answer  similarity_score  \n",
       "0  The author discusses how the shrinking space o...          0.813708  \n",
       "1  In Ahmedabad, India, a drunk 17-year-old boy j...          0.936408  \n",
       "2  Dougie Freedman is on the verge of signing a n...          0.932517  \n",
       "3  Liverpool are interested in signing Fiorentina...          0.926570  \n",
       "4  Bruce Jenner will speak out in a 'far-reaching...          0.922733  "
      ]
     },
     "execution_count": 116,
     "metadata": {},
     "output_type": "execute_result"
    }
   ],
   "source": [
    "def generate_response(article):\n",
    "    response = model.predict(\n",
    "        \"create summary of this article: \" + article,\n",
    "        **parameters,\n",
    "    )\n",
    "    return response.text\n",
    "\n",
    "df[\"generated_answer\"] = df[\"article\"].apply(generate_response)    \n",
    "df.head()"
   ]
  },
  {
   "cell_type": "code",
   "execution_count": 117,
   "id": "0df0d4da-bc12-47f3-841a-250fa64432f8",
   "metadata": {},
   "outputs": [
    {
     "data": {
      "text/plain": [
       "\"Dougie Freedman is on the verge of agreeing a new two-year deal to remain at Nottingham Forest. Freedman has stabilised Forest since he replaced cult hero Stuart Pearce and the club's owners are pleased with the job he has done at the City Ground. Dougie Freedman is set to sign a new deal at Nottingham Forest . Freedman has impressed at the City Ground since replacing Stuart Pearce in February . They made an audacious attempt on the play-off places when Freedman replaced Pearce but have tailed off in recent weeks. That has not prevented Forest's ownership making moves to secure Freedman on a contract for the next two seasons.\""
      ]
     },
     "execution_count": 117,
     "metadata": {},
     "output_type": "execute_result"
    }
   ],
   "source": [
    "df.iloc[2, :][\"article\"]"
   ]
  },
  {
   "cell_type": "code",
   "execution_count": 118,
   "id": "a79304ea-d8b4-4b74-a2d0-209b7c1c78fb",
   "metadata": {},
   "outputs": [
    {
     "data": {
      "text/plain": [
       "\"Nottingham Forest are close to extending Dougie Freedman's contract .\\nThe Forest boss took over from former manager Stuart Pearce in February .\\nFreedman has since lead the club to ninth in the Championship .\""
      ]
     },
     "execution_count": 118,
     "metadata": {},
     "output_type": "execute_result"
    }
   ],
   "source": [
    "df.iloc[2, :][\"highlights\"]"
   ]
  },
  {
   "cell_type": "code",
   "execution_count": 119,
   "id": "29e9543c-7a09-48e2-82f5-b712af9bed3b",
   "metadata": {},
   "outputs": [
    {
     "data": {
      "text/plain": [
       "'Dougie Freedman is on the verge of signing a new two-year deal to remain at Nottingham Forest. Freedman has impressed since replacing Stuart Pearce in February and has helped Forest to stabilise.'"
      ]
     },
     "execution_count": 119,
     "metadata": {},
     "output_type": "execute_result"
    }
   ],
   "source": [
    "df.iloc[2, :][\"generated_answer\"]"
   ]
  },
  {
   "cell_type": "code",
   "execution_count": 120,
   "id": "abfd1918-cbdc-465e-bb86-429755a9fac8",
   "metadata": {},
   "outputs": [
    {
     "data": {
      "text/html": [
       "<div>\n",
       "<style scoped>\n",
       "    .dataframe tbody tr th:only-of-type {\n",
       "        vertical-align: middle;\n",
       "    }\n",
       "\n",
       "    .dataframe tbody tr th {\n",
       "        vertical-align: top;\n",
       "    }\n",
       "\n",
       "    .dataframe thead th {\n",
       "        text-align: right;\n",
       "    }\n",
       "</style>\n",
       "<table border=\"1\" class=\"dataframe\">\n",
       "  <thead>\n",
       "    <tr style=\"text-align: right;\">\n",
       "      <th></th>\n",
       "      <th>article</th>\n",
       "      <th>highlights</th>\n",
       "      <th>generated_answer</th>\n",
       "      <th>similarity_score</th>\n",
       "    </tr>\n",
       "  </thead>\n",
       "  <tbody>\n",
       "    <tr>\n",
       "      <th>0</th>\n",
       "      <td>Ever noticed how plane seats appear to be gett...</td>\n",
       "      <td>Experts question if  packed out planes are put...</td>\n",
       "      <td>The author discusses how the shrinking space o...</td>\n",
       "      <td>0.813708</td>\n",
       "    </tr>\n",
       "    <tr>\n",
       "      <th>1</th>\n",
       "      <td>A drunk teenage boy had to be rescued by secur...</td>\n",
       "      <td>Drunk teenage boy climbed into lion enclosure ...</td>\n",
       "      <td>In Ahmedabad, India, a drunk 17-year-old boy j...</td>\n",
       "      <td>0.907429</td>\n",
       "    </tr>\n",
       "    <tr>\n",
       "      <th>2</th>\n",
       "      <td>Dougie Freedman is on the verge of agreeing a ...</td>\n",
       "      <td>Nottingham Forest are close to extending Dougi...</td>\n",
       "      <td>Dougie Freedman is on the verge of signing a n...</td>\n",
       "      <td>0.938819</td>\n",
       "    </tr>\n",
       "    <tr>\n",
       "      <th>3</th>\n",
       "      <td>Liverpool target Neto is also wanted by PSG an...</td>\n",
       "      <td>Fiorentina goalkeeper Neto has been linked wit...</td>\n",
       "      <td>Liverpool are interested in signing Fiorentina...</td>\n",
       "      <td>0.924862</td>\n",
       "    </tr>\n",
       "    <tr>\n",
       "      <th>4</th>\n",
       "      <td>Bruce Jenner will break his silence in a two-h...</td>\n",
       "      <td>Tell-all interview with the reality TV star, 6...</td>\n",
       "      <td>Bruce Jenner will speak out in a 'far-reaching...</td>\n",
       "      <td>0.923909</td>\n",
       "    </tr>\n",
       "  </tbody>\n",
       "</table>\n",
       "</div>"
      ],
      "text/plain": [
       "                                             article  \\\n",
       "0  Ever noticed how plane seats appear to be gett...   \n",
       "1  A drunk teenage boy had to be rescued by secur...   \n",
       "2  Dougie Freedman is on the verge of agreeing a ...   \n",
       "3  Liverpool target Neto is also wanted by PSG an...   \n",
       "4  Bruce Jenner will break his silence in a two-h...   \n",
       "\n",
       "                                          highlights  \\\n",
       "0  Experts question if  packed out planes are put...   \n",
       "1  Drunk teenage boy climbed into lion enclosure ...   \n",
       "2  Nottingham Forest are close to extending Dougi...   \n",
       "3  Fiorentina goalkeeper Neto has been linked wit...   \n",
       "4  Tell-all interview with the reality TV star, 6...   \n",
       "\n",
       "                                    generated_answer  similarity_score  \n",
       "0  The author discusses how the shrinking space o...          0.813708  \n",
       "1  In Ahmedabad, India, a drunk 17-year-old boy j...          0.907429  \n",
       "2  Dougie Freedman is on the verge of signing a n...          0.938819  \n",
       "3  Liverpool are interested in signing Fiorentina...          0.924862  \n",
       "4  Bruce Jenner will speak out in a 'far-reaching...          0.923909  "
      ]
     },
     "execution_count": 120,
     "metadata": {},
     "output_type": "execute_result"
    }
   ],
   "source": [
    "from vertexai.preview.language_models import TextEmbeddingModel\n",
    "import numpy as np\n",
    "\n",
    "emb_model = TextEmbeddingModel.from_pretrained(\"textembedding-gecko@001\")\n",
    "\n",
    "def check_similarity(row):\n",
    "    response = emb_model.get_embeddings([row[\"highlights\"], row[\"generated_answer\"]])\n",
    "    embeddings = [embedding.values for embedding in response]    \n",
    "    return np.dot(embeddings[0], embeddings[1])\n",
    "    \n",
    "df[\"similarity_score\"] = df.apply(check_similarity, axis=1)   \n",
    "\n",
    "df\n",
    "    "
   ]
  },
  {
   "cell_type": "code",
   "execution_count": 121,
   "id": "4ce79dae-2aa7-49ae-b57d-12e7af6aaa84",
   "metadata": {},
   "outputs": [
    {
     "name": "stdout",
     "output_type": "stream",
     "text": [
      "0.9017453729520287\n"
     ]
    }
   ],
   "source": [
    "total_similarity_score = df['similarity_score'].mean()\n",
    "print(total_similarity_score)"
   ]
  }
 ],
 "metadata": {
  "kernelspec": {
   "display_name": "Python (Local)",
   "language": "python",
   "name": "local-base"
  },
  "language_info": {
   "codemirror_mode": {
    "name": "ipython",
    "version": 3
   },
   "file_extension": ".py",
   "mimetype": "text/x-python",
   "name": "python",
   "nbconvert_exporter": "python",
   "pygments_lexer": "ipython3",
   "version": "3.7.12"
  }
 },
 "nbformat": 4,
 "nbformat_minor": 5
}
