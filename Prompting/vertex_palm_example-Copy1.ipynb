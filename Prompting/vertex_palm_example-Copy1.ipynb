{
 "cells": [
  {
   "cell_type": "code",
   "execution_count": 15,
   "id": "5745f3d5-972b-4959-9610-cff55bfb4c61",
   "metadata": {},
   "outputs": [],
   "source": [
    "PROJECT= ! (gcloud config get-value project) \n",
    "BUCKET_NAME = PROJECT[0] + \"-bucket\"\n",
    "INPUT_NAME=\"data.jsonl\"\n",
    "OUTPUT_DIR=\"results\"\n",
    "OUTPUT_FILE=\"results.jsonl\""
   ]
  },
  {
   "cell_type": "code",
   "execution_count": null,
   "id": "4cf61d4c-ddac-41fc-a18f-aa64abf05b2f",
   "metadata": {},
   "outputs": [],
   "source": [
    "prompt=\"hello\""
   ]
  },
  {
   "cell_type": "code",
   "execution_count": null,
   "id": "2bb9f4fa-d3b9-45a8-a047-4203bdbf44ab",
   "metadata": {},
   "outputs": [],
   "source": [
    "import json\n",
    "import os\n",
    "from google.cloud import storage\n",
    "\n",
    "test = [{\"prompt\":\"hello\"}]\n",
    "\n",
    "with open(INPUT_NAME, 'w') as f:\n",
    "    for item in test:\n",
    "        f.write(json.dumps(item) + \"\\n\")\n",
    "\n",
    "with open(INPUT_NAME) as f:\n",
    "    for line in f:\n",
    "        print(line)\n",
    "        \n",
    "# Get the bucket name\n",
    "bucket_name = BUCKET_NAME\n",
    "\n",
    "# Get the file path\n",
    "file_path = INPUT_NAME\n",
    "\n",
    "# Create a storage client\n",
    "client = storage.Client()\n",
    "bucket = client.bucket(bucket_name)\n",
    "\n",
    "# Upload the file\n",
    "bucket.blob(file_path).upload_from_filename(file_path)"
   ]
  },
  {
   "cell_type": "code",
   "execution_count": null,
   "id": "7ddd3cac-6e51-4823-bf85-7be56aec588f",
   "metadata": {},
   "outputs": [],
   "source": [
    "from vertexai.preview.language_models import TextGenerationModel\n",
    "text_model = TextGenerationModel.from_pretrained(\"text-bison\")\n",
    "batch_prediction_job = text_model.batch_predict(\n",
    "  dataset=[\"gs://\"+BUCKET_NAME+\"/\"+INPUT_NAME],\n",
    "  destination_uri_prefix=\"gs://\"+BUCKET_NAME+\"/\"+OUTPUT_DIR,\n",
    "  # Optional:\n",
    "  model_parameters={\n",
    "      \"maxOutputTokens\": \"200\",\n",
    "      \"temperature\": \"0.2\",\n",
    "      \"topP\": \"0.95\",\n",
    "      \"topK\": \"40\",\n",
    "  },\n",
    ")\n",
    "print(batch_prediction_job.display_name)\n",
    "print(batch_prediction_job.resource_name)\n",
    "print(batch_prediction_job.state)"
   ]
  },
  {
   "cell_type": "code",
   "execution_count": null,
   "id": "1e58a787-21ec-4569-8265-6f6ecb4d0b25",
   "metadata": {},
   "outputs": [],
   "source": [
    "batch_prediction_job.output_info.gcs_output_directory.replace(\"gs://\"+BUCKET_NAME+\"/\",\"\")"
   ]
  },
  {
   "cell_type": "code",
   "execution_count": null,
   "id": "997dfef9-dcc0-4174-82ce-5a5396ca0993",
   "metadata": {},
   "outputs": [],
   "source": [
    "blobs = bucket.list_blobs(prefix=batch_prediction_job.output_info.gcs_output_directory.replace(\"gs://\"+BUCKET_NAME+\"/\",\"\"))\n",
    "\n",
    "for blob in blobs:\n",
    "    print(blob.name)\n",
    "    blob.download_to_filename(OUTPUT_FILE)"
   ]
  },
  {
   "cell_type": "code",
   "execution_count": null,
   "id": "0dcf8a5a-d57a-4d09-a848-a4901cdecf1c",
   "metadata": {},
   "outputs": [],
   "source": [
    "import json\n",
    "\n",
    "with open(OUTPUT_FILE, 'r') as f:\n",
    "  response = json.load(f)\n",
    "\n",
    "response[\"predictions\"][0][\"content\"]"
   ]
  }
 ],
 "metadata": {
  "kernelspec": {
   "display_name": "Python (Local)",
   "language": "python",
   "name": "local-base"
  },
  "language_info": {
   "codemirror_mode": {
    "name": "ipython",
    "version": 3
   },
   "file_extension": ".py",
   "mimetype": "text/x-python",
   "name": "python",
   "nbconvert_exporter": "python",
   "pygments_lexer": "ipython3",
   "version": "3.7.12"
  }
 },
 "nbformat": 4,
 "nbformat_minor": 5
}
