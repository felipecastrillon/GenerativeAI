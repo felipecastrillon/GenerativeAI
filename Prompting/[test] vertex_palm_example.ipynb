{
 "cells": [
  {
   "cell_type": "code",
   "execution_count": 15,
   "id": "5745f3d5-972b-4959-9610-cff55bfb4c61",
   "metadata": {},
   "outputs": [],
   "source": [
    "PROJECT= ! (gcloud config get-value project) \n",
    "BUCKET_NAME = PROJECT[0] + \"-bucket\"\n",
    "INPUT_NAME=\"data.jsonl\"\n",
    "OUTPUT_DIR=\"results\"\n",
    "OUTPUT_FILE=\"results.jsonl\""
   ]
  },
  {
   "cell_type": "code",
   "execution_count": 18,
   "id": "16673693-7eff-4b4a-ab4b-c7544f0b4280",
   "metadata": {},
   "outputs": [],
   "source": [
    "prompt = \"\"\"\n",
    "Service Rep: How may I assist you today?\n",
    "Customer: I need to change the shipping address for an order.\n",
    "Service Rep: Ok, I can help you with that if the order has not been fulfilled from our warehouse yet. But if it has already shipped, then you will need to contact the shipping provider. Do you have the order ID?\n",
    "Customer: Yes, it's 88986367.\n",
    "Service Rep: One minute please while I pull up your order information.\n",
    "Customer: No problem\n",
    "Service Rep: Ok, it looks like your order was shipped from our warehouse 2 days ago. It is now in the hands of  the shipping provider, so you will need to contact them to update your delivery details. You can track your order with the shipping provider here: https://www.shippingprovider.com\n",
    "Customer: Sigh, ok.\n",
    "Service Rep: Is there anything else I can help you with today?\n",
    "Customer: No, thanks.\n",
    "\n",
    "Can you help me categorize the conversation above?\n",
    "\n",
    "Format your response in the following format - \n",
    "\n",
    "clues: <clues> \n",
    "\n",
    "issue: <issue> \n",
    "\n",
    "resolution: <resolution> \n",
    "\n",
    "category: <category> \n",
    "\n",
    "sub-category: <sub-category> \"\"\""
   ]
  },
  {
   "cell_type": "markdown",
   "id": "4c015b1a-74a1-4cf8-923a-e3ef4078d41f",
   "metadata": {},
   "source": [
    "# Let's try Online Prediction..."
   ]
  },
  {
   "cell_type": "code",
   "execution_count": 39,
   "id": "c6b28eaa-fcf0-4ed5-9fdc-2bac9987a854",
   "metadata": {},
   "outputs": [
    {
     "name": "stdout",
     "output_type": "stream",
     "text": [
      "Response from Model: \n",
      "\n",
      " clues: change shipping address, order ID: 88986367\n",
      "\n",
      "issue: customer wants to change the shipping address for an order\n",
      "\n",
      "resolution: the order has already shipped, so the customer will need to contact the shipping provider to update their delivery details\n",
      "\n",
      "category: order\n",
      "\n",
      "sub-category: change shipping address\n"
     ]
    }
   ],
   "source": [
    "from vertexai.preview.language_models import TextGenerationModel\n",
    "text_model = TextGenerationModel.from_pretrained(\"text-bison\")\n",
    "\n",
    "parameters={\n",
    "      \"max_output_tokens\": 200,\n",
    "      \"temperature\": 0,\n",
    "      \"top_p\": 0.95,\n",
    "      \"top_k\": 40,\n",
    "}\n",
    "\n",
    "response = text_model.predict(\n",
    "    prompt,\n",
    "    **parameters,\n",
    ")\n",
    "print(f\"Response from Model: \\n\\n{response.text}\")"
   ]
  },
  {
   "cell_type": "markdown",
   "id": "4af10074-8d55-4907-9d56-bb90c54cb85d",
   "metadata": {},
   "source": [
    "### try a few more times (pretty consistent)"
   ]
  },
  {
   "cell_type": "code",
   "execution_count": 86,
   "id": "8f879bb4-5c44-4128-a374-e05b54c0f981",
   "metadata": {},
   "outputs": [
    {
     "name": "stdout",
     "output_type": "stream",
     "text": [
      "Response from Model: \n",
      "\n",
      " clues: change shipping address, order ID: 88986367\n",
      "\n",
      "issue: customer wants to change the shipping address for an order\n",
      "\n",
      "resolution: the order has already shipped, so the customer will need to contact the shipping provider to update their delivery details\n",
      "\n",
      "category: order\n",
      "\n",
      "sub-category: change shipping address\n"
     ]
    }
   ],
   "source": [
    "response = text_model.predict(\n",
    "    prompt,\n",
    "    **parameters,\n",
    ")\n",
    "print(f\"Response from Model: \\n\\n{response.text}\")"
   ]
  },
  {
   "cell_type": "code",
   "execution_count": 87,
   "id": "c9bc6a01-088e-4a8c-8d08-ac6a16f72c3e",
   "metadata": {},
   "outputs": [
    {
     "name": "stdout",
     "output_type": "stream",
     "text": [
      "Response from Model: \n",
      "\n",
      " clues: change shipping address, order ID: 88986367\n",
      "\n",
      "issue: customer wants to change the shipping address for an order\n",
      "\n",
      "resolution: the order has already shipped, so the customer will need to contact the shipping provider to update their delivery details\n",
      "\n",
      "category: order\n",
      "\n",
      "sub-category: change shipping address\n"
     ]
    }
   ],
   "source": [
    "response = text_model.predict(\n",
    "    prompt,\n",
    "    **parameters,\n",
    ")\n",
    "print(f\"Response from Model: \\n\\n{response.text}\")"
   ]
  },
  {
   "cell_type": "markdown",
   "id": "74267cba-bb40-48ba-932c-5db08c6f9aea",
   "metadata": {},
   "source": [
    "# Now let's try Batch Prediction"
   ]
  },
  {
   "cell_type": "markdown",
   "id": "01c47e2e-253d-45b6-ade1-5ee23d90bbe5",
   "metadata": {},
   "source": [
    "using same prompt a few times to see consistency"
   ]
  },
  {
   "cell_type": "code",
   "execution_count": 88,
   "id": "2bb9f4fa-d3b9-45a8-a047-4203bdbf44ab",
   "metadata": {},
   "outputs": [],
   "source": [
    "import json\n",
    "import os\n",
    "from google.cloud import storage\n",
    "\n",
    "input_text = [{\"prompt\":prompt},{\"prompt\":prompt},{\"prompt\":prompt},{\"prompt\":prompt},{\"prompt\":prompt}]\n",
    "\n",
    "with open(INPUT_NAME, 'w') as f:\n",
    "    for item in input_text:\n",
    "        f.write(json.dumps(item) + \"\\n\")\n",
    "        \n",
    "# Get the bucket name\n",
    "bucket_name = BUCKET_NAME\n",
    "\n",
    "# Get the file path\n",
    "file_path = INPUT_NAME\n",
    "\n",
    "# Create a storage client\n",
    "client = storage.Client()\n",
    "bucket = client.bucket(bucket_name)\n",
    "\n",
    "# Upload the file\n",
    "bucket.blob(file_path).upload_from_filename(file_path)"
   ]
  },
  {
   "cell_type": "code",
   "execution_count": 89,
   "id": "7ddd3cac-6e51-4823-bf85-7be56aec588f",
   "metadata": {},
   "outputs": [
    {
     "name": "stdout",
     "output_type": "stream",
     "text": [
      "Creating BatchPredictionJob\n",
      "BatchPredictionJob created. Resource name: projects/185246287903/locations/us-central1/batchPredictionJobs/7494703706588315648\n",
      "To use this BatchPredictionJob in another session:\n",
      "bpj = aiplatform.BatchPredictionJob('projects/185246287903/locations/us-central1/batchPredictionJobs/7494703706588315648')\n",
      "View Batch Prediction Job:\n",
      "https://console.cloud.google.com/ai/platform/locations/us-central1/batch-predictions/7494703706588315648?project=185246287903\n",
      "BatchPredictionJob projects/185246287903/locations/us-central1/batchPredictionJobs/7494703706588315648 current state:\n",
      "JobState.JOB_STATE_RUNNING\n",
      "BatchPredictionJob projects/185246287903/locations/us-central1/batchPredictionJobs/7494703706588315648 current state:\n",
      "JobState.JOB_STATE_RUNNING\n",
      "BatchPredictionJob projects/185246287903/locations/us-central1/batchPredictionJobs/7494703706588315648 current state:\n",
      "JobState.JOB_STATE_SUCCEEDED\n",
      "BatchPredictionJob run completed. Resource name: projects/185246287903/locations/us-central1/batchPredictionJobs/7494703706588315648\n",
      "BatchPredictionJob 2023-09-29 19:30:47.802716\n",
      "projects/185246287903/locations/us-central1/batchPredictionJobs/7494703706588315648\n",
      "JobState.JOB_STATE_SUCCEEDED\n"
     ]
    }
   ],
   "source": [
    "\n",
    "batch_prediction_job = text_model.batch_predict(\n",
    "  dataset=[\"gs://\"+BUCKET_NAME+\"/\"+INPUT_NAME],\n",
    "  destination_uri_prefix=\"gs://\"+BUCKET_NAME+\"/\"+OUTPUT_DIR,\n",
    "  # Optional:\n",
    "  model_parameters={\n",
    "      \"maxOutputTokens\": \"200\",\n",
    "      \"temperature\": \"0\",\n",
    "      \"topP\": \"0.95\",\n",
    "      \"topK\": \"40\",\n",
    "  },\n",
    ")\n",
    "print(batch_prediction_job.display_name)\n",
    "print(batch_prediction_job.resource_name)\n",
    "print(batch_prediction_job.state)"
   ]
  },
  {
   "cell_type": "code",
   "execution_count": 90,
   "id": "997dfef9-dcc0-4174-82ce-5a5396ca0993",
   "metadata": {},
   "outputs": [
    {
     "name": "stdout",
     "output_type": "stream",
     "text": [
      "results/prediction-model-2023-09-29T19:30:47.895290Z/000000000000.jsonl\n"
     ]
    }
   ],
   "source": [
    "blobs = bucket.list_blobs(prefix=batch_prediction_job.output_info.gcs_output_directory.replace(\"gs://\"+BUCKET_NAME+\"/\",\"\"))\n",
    "\n",
    "for blob in blobs:\n",
    "    print(blob.name)\n",
    "    blob.download_to_filename(OUTPUT_FILE)"
   ]
  },
  {
   "cell_type": "code",
   "execution_count": 91,
   "id": "0dcf8a5a-d57a-4d09-a848-a4901cdecf1c",
   "metadata": {},
   "outputs": [],
   "source": [
    "import json\n",
    "\n",
    "batch_response = []\n",
    "\n",
    "with open(OUTPUT_FILE, 'r') as f:\n",
    "    for row in f:\n",
    "        batch_response.append(json.loads(row))"
   ]
  },
  {
   "cell_type": "code",
   "execution_count": 93,
   "id": "dcc8f408-c957-4616-9efc-56ad254bfe76",
   "metadata": {},
   "outputs": [
    {
     "name": "stdout",
     "output_type": "stream",
     "text": [
      "\n",
      "\n",
      "RESPONSE: \n",
      "\n",
      "\n",
      "clues: customer wants to change shipping address, order has already shipped\n",
      "\n",
      "issue: change shipping address\n",
      "\n",
      "resolution: customer needs to contact shipping provider\n",
      "\n",
      "category: customer service\n",
      "\n",
      "sub-category: order management\n",
      "\n",
      "\n",
      "RESPONSE: \n",
      "\n",
      "\n",
      "clues: customer wants to change shipping address, order has already shipped\n",
      "\n",
      "issue: change shipping address\n",
      "\n",
      "resolution: customer needs to contact shipping provider\n",
      "\n",
      "category: customer service\n",
      "\n",
      "sub-category: order management\n",
      "\n",
      "\n",
      "RESPONSE: \n",
      "\n",
      "\n",
      "Clues:\n",
      "- Customer wants to change shipping address\n",
      "- Order has already shipped\n",
      "- Customer needs to contact shipping provider\n",
      "\n",
      "Issue:\n",
      "- Customer wants to change shipping address for an order that has already shipped\n",
      "\n",
      "Resolution:\n",
      "- Customer is told to contact shipping provider\n",
      "\n",
      "Category:\n",
      "- Customer Service\n",
      "\n",
      "Sub-category:\n",
      "- Order Management\n",
      "\n",
      "\n",
      "RESPONSE: \n",
      "\n",
      "\n",
      "Clues:\n",
      "- Customer wants to change shipping address\n",
      "- Order has already shipped\n",
      "- Customer needs to contact shipping provider\n",
      "\n",
      "Issue:\n",
      "- Customer wants to change shipping address for an order that has already shipped\n",
      "\n",
      "Resolution:\n",
      "- Customer is told to contact shipping provider\n",
      "\n",
      "Category:\n",
      "- Customer Service\n",
      "\n",
      "Sub-category:\n",
      "- Order Management\n",
      "\n",
      "\n",
      "RESPONSE: \n",
      "\n",
      "\n",
      "Clues:\n",
      "- Customer wants to change shipping address\n",
      "- Order has already shipped\n",
      "- Customer needs to contact shipping provider\n",
      "\n",
      "Issue:\n",
      "- Customer wants to change shipping address for an order that has already shipped\n",
      "\n",
      "Resolution:\n",
      "- Customer is told to contact shipping provider\n",
      "\n",
      "Category:\n",
      "- Customer Service\n",
      "\n",
      "Sub-category:\n",
      "- Order Management\n"
     ]
    }
   ],
   "source": [
    "for resp in batch_response: \n",
    "    print(\"\\n\\nRESPONSE: \\n\\n\")\n",
    "    print(resp[\"predictions\"][0][\"content\"])"
   ]
  }
 ],
 "metadata": {
  "kernelspec": {
   "display_name": "Python (Local)",
   "language": "python",
   "name": "local-base"
  },
  "language_info": {
   "codemirror_mode": {
    "name": "ipython",
    "version": 3
   },
   "file_extension": ".py",
   "mimetype": "text/x-python",
   "name": "python",
   "nbconvert_exporter": "python",
   "pygments_lexer": "ipython3",
   "version": "3.7.12"
  }
 },
 "nbformat": 4,
 "nbformat_minor": 5
}
