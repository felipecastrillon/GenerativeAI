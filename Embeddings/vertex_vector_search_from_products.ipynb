{
 "cells": [
  {
   "cell_type": "markdown",
   "id": "3a38af16-8e2d-4cd3-bad7-1b8382ec3cbc",
   "metadata": {
    "tags": []
   },
   "source": [
    "# Product Name Search Using Vector Search"
   ]
  },
  {
   "cell_type": "markdown",
   "id": "d4485386-81f9-485c-8691-f03be20d319b",
   "metadata": {},
   "source": [
    "This project demonstrates how to use vertex vector search with waymo's public [WANDS retail dataset](https://github.com/wayfair/WANDS/tree/main)"
   ]
  },
  {
   "cell_type": "markdown",
   "id": "fdaf47ae-4bc1-4d88-9200-54c426092207",
   "metadata": {},
   "source": [
    "## Setup\n",
    "### Install and Import Python Packages"
   ]
  },
  {
   "cell_type": "code",
   "execution_count": 4,
   "id": "4433539e-05ed-402d-8def-d87b93a04761",
   "metadata": {
    "tags": []
   },
   "outputs": [],
   "source": [
    "%%capture\n",
    "!pip3 install seaborn\n",
    "!pip3 install tensorflow\n",
    "!pip3 install tensorflow_hub\n",
    "!pip3 install tensorflow_datasets\n",
    "#!pip install google-cloud-aiplatform"
   ]
  },
  {
   "cell_type": "code",
   "execution_count": 5,
   "id": "132b00b0-33a7-48ff-b1bf-765071f93dac",
   "metadata": {
    "tags": []
   },
   "outputs": [
    {
     "name": "stderr",
     "output_type": "stream",
     "text": [
      "2024-03-22 18:32:22.080602: I tensorflow/core/platform/cpu_feature_guard.cc:182] This TensorFlow binary is optimized to use available CPU instructions in performance-critical operations.\n",
      "To enable the following instructions: AVX2 FMA, in other operations, rebuild TensorFlow with the appropriate compiler flags.\n"
     ]
    }
   ],
   "source": [
    "from sklearn.feature_extraction.text import TfidfVectorizer\n",
    "from sklearn.decomposition import PCA\n",
    "import pandas as pd\n",
    "import numpy as np\n",
    "import os\n",
    "import csv\n",
    "import time\n",
    "import math\n",
    "import functools\n",
    "from sklearn.metrics.pairwise import cosine_similarity\n",
    "from typing import Generator, List, Tuple, Optional\n",
    "from concurrent.futures import ThreadPoolExecutor\n",
    "from tqdm.auto import tqdm\n",
    "from typing import List, Optional\n",
    "from sklearn.feature_extraction.text import TfidfVectorizer\n",
    "\n",
    "# google cloud imports\n",
    "from google.cloud import aiplatform\n",
    "import vertexai\n",
    "from vertexai.language_models import TextEmbeddingModel"
   ]
  },
  {
   "cell_type": "markdown",
   "id": "1c6acf60-980f-4889-9baa-369ac41d2089",
   "metadata": {},
   "source": [
    "### Global Variables"
   ]
  },
  {
   "cell_type": "code",
   "execution_count": 40,
   "id": "c999756a-2cea-43f0-9bde-3afeed0f1aac",
   "metadata": {
    "tags": []
   },
   "outputs": [],
   "source": [
    "PROJECT = \"felipe-sandbox-354619\"\n",
    "DATASET = \"https://github.com/wayfair/WANDS/blob/main/dataset/product.csv\"\n",
    "LOCATION = \"us-east4\"\n",
    "BUCKET = \"gs://felipe-sandbox-354619-bucket-regional\"\n",
    "BUCKET_URI = BUCKET + \"/vector-search-embeddings\"\n",
    "N_DIMENSIONS = 500\n",
    "\n",
    "# Vector Search variables\n",
    "INDEX_ID = \"product_names_ind\"\n",
    "INDEX_ENDPOINT_ID = \"product_endpoint\""
   ]
  },
  {
   "cell_type": "markdown",
   "id": "e11c08a3-43d6-4330-beed-31aba1178f05",
   "metadata": {},
   "source": [
    "### Start Clients"
   ]
  },
  {
   "cell_type": "code",
   "execution_count": 7,
   "id": "0797c9c2-0e72-4e78-94f8-df01470c4d66",
   "metadata": {
    "tags": []
   },
   "outputs": [],
   "source": [
    "aiplatform.init(project=PROJECT, location=LOCATION)"
   ]
  },
  {
   "cell_type": "markdown",
   "id": "05edfecb-6311-41b2-a60a-1126175c9aaa",
   "metadata": {},
   "source": [
    "### Remove existing metadata and coeffecients"
   ]
  },
  {
   "cell_type": "code",
   "execution_count": 12,
   "id": "6e49b9d0-e907-4a45-87f6-4507827104a9",
   "metadata": {
    "tags": []
   },
   "outputs": [],
   "source": [
    "!rm -r tmp\n",
    "!rm -r tmp2 # for gecko embeddings (not currently used)"
   ]
  },
  {
   "cell_type": "markdown",
   "id": "b3faf249-c83a-4e6c-a5cf-cda7b40a82e3",
   "metadata": {},
   "source": [
    "### Create metadata path "
   ]
  },
  {
   "cell_type": "code",
   "execution_count": 13,
   "id": "14144bf6-b53d-4f44-a318-e95bdabbdb2b",
   "metadata": {
    "tags": []
   },
   "outputs": [],
   "source": [
    "import os\n",
    "\n",
    "log_dir='tmp'\n",
    "if not os.path.exists(log_dir):\n",
    "    os.makedirs(log_dir)\n",
    "    \n",
    "log_dir='tmp2' # for gecko embedding (not currently used)\n",
    "if not os.path.exists(log_dir):\n",
    "    os.makedirs(log_dir)"
   ]
  },
  {
   "cell_type": "markdown",
   "id": "0dff4ebb-163d-456e-9c53-74184bcfde20",
   "metadata": {
    "tags": []
   },
   "source": [
    "## Load Product Data Into a Dataframe"
   ]
  },
  {
   "cell_type": "markdown",
   "id": "59f0127e-60e9-425a-941e-076a2be29f75",
   "metadata": {},
   "source": [
    "### Download Data"
   ]
  },
  {
   "cell_type": "code",
   "execution_count": 14,
   "id": "211c4185-5401-4900-b24d-b5a699da8b78",
   "metadata": {
    "tags": []
   },
   "outputs": [
    {
     "name": "stdout",
     "output_type": "stream",
     "text": [
      "fatal: destination path 'WANDS' already exists and is not an empty directory.\n"
     ]
    }
   ],
   "source": [
    "!git clone https://github.com/wayfair/WANDS.git"
   ]
  },
  {
   "cell_type": "markdown",
   "id": "5b5fc281-41d7-4ffa-802c-242a1cceb3d6",
   "metadata": {},
   "source": [
    "### Upload to a pandas dataset"
   ]
  },
  {
   "cell_type": "code",
   "execution_count": 15,
   "id": "21f6b788-a9b5-480e-a0a8-c723dce00090",
   "metadata": {
    "tags": []
   },
   "outputs": [
    {
     "data": {
      "text/html": [
       "<div>\n",
       "<style scoped>\n",
       "    .dataframe tbody tr th:only-of-type {\n",
       "        vertical-align: middle;\n",
       "    }\n",
       "\n",
       "    .dataframe tbody tr th {\n",
       "        vertical-align: top;\n",
       "    }\n",
       "\n",
       "    .dataframe thead th {\n",
       "        text-align: right;\n",
       "    }\n",
       "</style>\n",
       "<table border=\"1\" class=\"dataframe\">\n",
       "  <thead>\n",
       "    <tr style=\"text-align: right;\">\n",
       "      <th></th>\n",
       "      <th>product_id</th>\n",
       "      <th>product_name</th>\n",
       "      <th>product_class</th>\n",
       "      <th>category hierarchy</th>\n",
       "      <th>product_description</th>\n",
       "      <th>product_features</th>\n",
       "      <th>rating_count</th>\n",
       "      <th>average_rating</th>\n",
       "      <th>review_count</th>\n",
       "    </tr>\n",
       "  </thead>\n",
       "  <tbody>\n",
       "    <tr>\n",
       "      <th>0</th>\n",
       "      <td>0</td>\n",
       "      <td>solid wood platform bed</td>\n",
       "      <td>Beds</td>\n",
       "      <td>Furniture / Bedroom Furniture / Beds &amp; Headboa...</td>\n",
       "      <td>good , deep sleep can be quite difficult to ha...</td>\n",
       "      <td>overallwidth-sidetoside:64.7|dsprimaryproducts...</td>\n",
       "      <td>15.0</td>\n",
       "      <td>4.5</td>\n",
       "      <td>15.0</td>\n",
       "    </tr>\n",
       "    <tr>\n",
       "      <th>1</th>\n",
       "      <td>1</td>\n",
       "      <td>all-clad 7 qt . slow cooker</td>\n",
       "      <td>Slow Cookers</td>\n",
       "      <td>Kitchen &amp; Tabletop / Small Kitchen Appliances ...</td>\n",
       "      <td>create delicious slow-cooked meals , from tend...</td>\n",
       "      <td>capacityquarts:7|producttype : slow cooker|pro...</td>\n",
       "      <td>100.0</td>\n",
       "      <td>2.0</td>\n",
       "      <td>98.0</td>\n",
       "    </tr>\n",
       "    <tr>\n",
       "      <th>2</th>\n",
       "      <td>2</td>\n",
       "      <td>all-clad electrics 6.5 qt . slow cooker</td>\n",
       "      <td>Slow Cookers</td>\n",
       "      <td>Kitchen &amp; Tabletop / Small Kitchen Appliances ...</td>\n",
       "      <td>prepare home-cooked meals on any schedule with...</td>\n",
       "      <td>features : keep warm setting|capacityquarts:6....</td>\n",
       "      <td>208.0</td>\n",
       "      <td>3.0</td>\n",
       "      <td>181.0</td>\n",
       "    </tr>\n",
       "  </tbody>\n",
       "</table>\n",
       "</div>"
      ],
      "text/plain": [
       "   product_id                             product_name product_class  \\\n",
       "0           0                  solid wood platform bed          Beds   \n",
       "1           1              all-clad 7 qt . slow cooker  Slow Cookers   \n",
       "2           2  all-clad electrics 6.5 qt . slow cooker  Slow Cookers   \n",
       "\n",
       "                                  category hierarchy  \\\n",
       "0  Furniture / Bedroom Furniture / Beds & Headboa...   \n",
       "1  Kitchen & Tabletop / Small Kitchen Appliances ...   \n",
       "2  Kitchen & Tabletop / Small Kitchen Appliances ...   \n",
       "\n",
       "                                 product_description  \\\n",
       "0  good , deep sleep can be quite difficult to ha...   \n",
       "1  create delicious slow-cooked meals , from tend...   \n",
       "2  prepare home-cooked meals on any schedule with...   \n",
       "\n",
       "                                    product_features  rating_count  \\\n",
       "0  overallwidth-sidetoside:64.7|dsprimaryproducts...          15.0   \n",
       "1  capacityquarts:7|producttype : slow cooker|pro...         100.0   \n",
       "2  features : keep warm setting|capacityquarts:6....         208.0   \n",
       "\n",
       "   average_rating  review_count  \n",
       "0             4.5          15.0  \n",
       "1             2.0          98.0  \n",
       "2             3.0         181.0  "
      ]
     },
     "execution_count": 15,
     "metadata": {},
     "output_type": "execute_result"
    }
   ],
   "source": [
    "# get products\n",
    "df = pd.read_csv(\"WANDS/dataset/product.csv\", sep='\\t')\n",
    "df.head(3)"
   ]
  },
  {
   "cell_type": "markdown",
   "id": "9aa10627-f0f4-4f52-941a-cd32ca27bec9",
   "metadata": {},
   "source": [
    "## Convert Product Names to Embeddings"
   ]
  },
  {
   "cell_type": "markdown",
   "id": "8052e20b-2022-4d96-a41f-82e86277b704",
   "metadata": {},
   "source": [
    "### N-gram character embeddings"
   ]
  },
  {
   "cell_type": "code",
   "execution_count": 16,
   "id": "8937af1e-4782-4a7c-b345-18bc31682022",
   "metadata": {
    "tags": []
   },
   "outputs": [],
   "source": [
    "product_name_lst = df['product_name'].values.tolist() # convert to list; required for tensor conversion"
   ]
  },
  {
   "cell_type": "code",
   "execution_count": 17,
   "id": "1410af67-7016-48b1-8c8f-8a3c4ccaa2f4",
   "metadata": {
    "tags": []
   },
   "outputs": [],
   "source": [
    "vectorizer = TfidfVectorizer(max_features=10000,analyzer='char', ngram_range=(2,5))\n",
    "vector_matrix = vectorizer.fit_transform(product_name_lst)\n",
    "\n",
    "# Get feature names (vocabulary)\n",
    "feature_names = vectorizer.get_feature_names_out()\n",
    "\n",
    "# Convert the sparse matrix to a dense array \n",
    "vector_matrix = vector_matrix.toarray()\n",
    "\n",
    "# Create a DataFrame (optional)\n",
    "vector_df = pd.DataFrame(vector_matrix, columns=feature_names)"
   ]
  },
  {
   "cell_type": "markdown",
   "id": "f37eb1e6-a445-495d-a9fc-601cf78a97e8",
   "metadata": {},
   "source": [
    "### Test query similarity"
   ]
  },
  {
   "cell_type": "code",
   "execution_count": 18,
   "id": "236dbd61-74a5-4ebf-a2cc-c98050cf3d82",
   "metadata": {
    "tags": []
   },
   "outputs": [],
   "source": [
    "def get_similarity(vectorizer, vector_list, query):\n",
    "    \"\"\"\n",
    "    vectorizer: TfIdfVectorizer model\n",
    "    docs_tfidf: tfidf vectors for all docs\n",
    "    query: query doc\n",
    "\n",
    "    return: cosine similarity between query and all docs\n",
    "    \"\"\"\n",
    "    query_tfidf = vectorizer.transform([query])\n",
    "    cosineSimilarities = cosine_similarity(query_tfidf, vector_list).flatten()\n",
    "    return cosineSimilarities\n",
    "\n",
    "similarities = get_similarity(vectorizer, vector_matrix, \"montauk solid\")"
   ]
  },
  {
   "cell_type": "code",
   "execution_count": 19,
   "id": "fc558955-2091-47c0-95fd-b271a61e05cc",
   "metadata": {
    "tags": []
   },
   "outputs": [
    {
     "name": "stdout",
     "output_type": "stream",
     "text": [
      "montauk solid wood bed\n",
      "0.6580396790893387\n",
      "montauk desk\n",
      "0.5074540300764361\n",
      "montauk pine solid wood dining table\n",
      "0.44169117269445723\n",
      "mormont solid coffee table\n",
      "0.39920548313914345\n",
      "tyrell solid oak solid wood dining table\n",
      "0.3972741422655692\n"
     ]
    }
   ],
   "source": [
    "top_indices = np.argpartition(similarities, -5)[-5:][::-1]\n",
    "for ind in top_indices:\n",
    "    print(product_name_lst[ind])\n",
    "    print(similarities[ind])"
   ]
  },
  {
   "cell_type": "markdown",
   "id": "a17fcd65-6136-431d-91df-9556dd59219c",
   "metadata": {},
   "source": [
    "### Dimensionality Reduction (if needed)\n",
    "reduce embeddings to n_dimensions"
   ]
  },
  {
   "cell_type": "code",
   "execution_count": 20,
   "id": "0d3b12a2-5e9d-484b-80da-655a9375b643",
   "metadata": {
    "tags": []
   },
   "outputs": [],
   "source": [
    "pca = PCA(n_components=N_DIMENSIONS) \n",
    "vector_reduced_df = pca.fit_transform(vector_df)"
   ]
  },
  {
   "cell_type": "code",
   "execution_count": 21,
   "id": "6e39b4f5-c3e9-499d-be73-abbd9a6a6144",
   "metadata": {
    "tags": []
   },
   "outputs": [
    {
     "data": {
      "text/plain": [
       "500"
      ]
     },
     "execution_count": 21,
     "metadata": {},
     "output_type": "execute_result"
    }
   ],
   "source": [
    "len(vector_reduced_df[0])"
   ]
  },
  {
   "cell_type": "markdown",
   "id": "f4301f9d-1537-49b9-98e4-fce7660aaeaa",
   "metadata": {},
   "source": [
    "### Save Embeddings to Cloud Bucket"
   ]
  },
  {
   "cell_type": "code",
   "execution_count": 22,
   "id": "72f38d4e-a744-4388-98b1-961fd84f488b",
   "metadata": {
    "tags": []
   },
   "outputs": [],
   "source": [
    "output_list = []\n",
    "index = 0\n",
    "for vector in vector_reduced_df:\n",
    "    output_list.append(str(index) + \",\" + \",\".join(str(v) for v in vector))\n",
    "    index+=1"
   ]
  },
  {
   "cell_type": "code",
   "execution_count": 23,
   "id": "9e114431-f0ef-4e2d-bf5f-efe8361e8a09",
   "metadata": {
    "tags": []
   },
   "outputs": [],
   "source": [
    "# write file\n",
    "with open(\"tmp/vectors.csv\", \"w\") as f:\n",
    "    for string in output_list:\n",
    "        f.write(string + \"\\n\")\n",
    "\n",
    "f.close()"
   ]
  },
  {
   "cell_type": "code",
   "execution_count": 24,
   "id": "f53fd9bf-3b7d-4097-b66e-3e894bad40ea",
   "metadata": {
    "tags": []
   },
   "outputs": [
    {
     "name": "stdout",
     "output_type": "stream",
     "text": [
      "Copying file://tmp/vectors.csv [Content-Type=text/csv]...\n",
      "==> NOTE: You are uploading one or more large file(s), which would run          \n",
      "significantly faster if you enable parallel composite uploads. This\n",
      "feature can be enabled by editing the\n",
      "\"parallel_composite_upload_threshold\" value in your .boto\n",
      "configuration file. However, note that if you do this large files will\n",
      "be uploaded as `composite objects\n",
      "<https://cloud.google.com/storage/docs/composite-objects>`_,which\n",
      "means that any user who downloads such objects will need to have a\n",
      "compiled crcmod installed (see \"gsutil help crcmod\"). This is because\n",
      "without a compiled crcmod, computing checksums on composite objects is\n",
      "so slow that gsutil disables downloads of composite objects.\n",
      "\n",
      "- [1 files][435.4 MiB/435.4 MiB]                                                \n",
      "Operation completed over 1 objects/435.4 MiB.                                    \n"
     ]
    }
   ],
   "source": [
    "!gsutil cp tmp/vectors.csv $BUCKET_URI"
   ]
  },
  {
   "cell_type": "markdown",
   "id": "e448d6b0-1e24-4027-93ff-af228863efe5",
   "metadata": {},
   "source": [
    "## Create Vector Search Index "
   ]
  },
  {
   "cell_type": "markdown",
   "id": "d7bc334e-91fa-40d6-a27a-bb26559fcd71",
   "metadata": {},
   "source": [
    "### Create index endpoint (Only run if index has not been initialized)"
   ]
  },
  {
   "cell_type": "code",
   "execution_count": 34,
   "id": "aac3882d-c5d1-4c71-bd8e-e7198f3b36c0",
   "metadata": {
    "tags": []
   },
   "outputs": [
    {
     "name": "stdout",
     "output_type": "stream",
     "text": [
      "Creating MatchingEngineIndexEndpoint\n",
      "Create MatchingEngineIndexEndpoint backing LRO: projects/185246287903/locations/us-east4/indexEndpoints/3274099336912306176/operations/4893843791858892800\n",
      "MatchingEngineIndexEndpoint created. Resource name: projects/185246287903/locations/us-east4/indexEndpoints/3274099336912306176\n",
      "To use this MatchingEngineIndexEndpoint in another session:\n",
      "index_endpoint = aiplatform.MatchingEngineIndexEndpoint('projects/185246287903/locations/us-east4/indexEndpoints/3274099336912306176')\n"
     ]
    }
   ],
   "source": [
    "## create `IndexEndpoint`\n",
    "my_index_endpoint = aiplatform.MatchingEngineIndexEndpoint.create(\n",
    "    display_name = INDEX_ENDPOINT_ID,\n",
    "    public_endpoint_enabled = True\n",
    ")\n"
   ]
  },
  {
   "cell_type": "code",
   "execution_count": 80,
   "id": "f3a91dc2-bc4f-4e0b-8d00-7ddb6cecb1d1",
   "metadata": {
    "tags": []
   },
   "outputs": [
    {
     "name": "stdout",
     "output_type": "stream",
     "text": [
      "Creating MatchingEngineIndex\n",
      "Create MatchingEngineIndex backing LRO: projects/185246287903/locations/us-east4/indexes/7200745630770135040/operations/2115685771724718080\n",
      "MatchingEngineIndex created. Resource name: projects/185246287903/locations/us-east4/indexes/7200745630770135040\n",
      "To use this MatchingEngineIndex in another session:\n",
      "index = aiplatform.MatchingEngineIndex('projects/185246287903/locations/us-east4/indexes/7200745630770135040')\n"
     ]
    }
   ],
   "source": [
    "# create Index\n",
    "my_index = aiplatform.MatchingEngineIndex.create_tree_ah_index(\n",
    "    display_name = INDEX_ID,\n",
    "    contents_delta_uri = BUCKET_URI,\n",
    "    dimensions = N_DIMENSIONS,\n",
    "    approximate_neighbors_count = 10,\n",
    ")"
   ]
  },
  {
   "cell_type": "code",
   "execution_count": 35,
   "id": "1d3b5e2c-d34d-4631-a922-8900c59533dc",
   "metadata": {
    "collapsed": true,
    "jupyter": {
     "outputs_hidden": true
    },
    "tags": []
   },
   "outputs": [
    {
     "ename": "NameError",
     "evalue": "name 'my_index' is not defined",
     "output_type": "error",
     "traceback": [
      "\u001b[0;31m---------------------------------------------------------------------------\u001b[0m",
      "\u001b[0;31mNameError\u001b[0m                                 Traceback (most recent call last)",
      "Cell \u001b[0;32mIn[35], line 3\u001b[0m\n\u001b[1;32m      1\u001b[0m \u001b[38;5;66;03m# deploy the Index to the Index Endpoint\u001b[39;00m\n\u001b[1;32m      2\u001b[0m my_index_endpoint\u001b[38;5;241m.\u001b[39mdeploy_index(\n\u001b[0;32m----> 3\u001b[0m     index \u001b[38;5;241m=\u001b[39m \u001b[43mmy_index\u001b[49m, deployed_index_id \u001b[38;5;241m=\u001b[39m INDEX_ID\n\u001b[1;32m      4\u001b[0m )\n",
      "\u001b[0;31mNameError\u001b[0m: name 'my_index' is not defined"
     ]
    }
   ],
   "source": [
    "# deploy the Index to the Index Endpoint\n",
    "my_index_endpoint.deploy_index(\n",
    "    index = my_index, deployed_index_id = INDEX_ID\n",
    ")"
   ]
  },
  {
   "cell_type": "markdown",
   "id": "2c8f7832-4fbb-4e43-8ef1-a1f5ddef60c5",
   "metadata": {},
   "source": [
    "### Instantiate index endpoint"
   ]
  },
  {
   "cell_type": "code",
   "execution_count": 45,
   "id": "f147e3b0-605b-42b8-90cd-1f7157fc588f",
   "metadata": {},
   "outputs": [],
   "source": [
    "# test index search\n",
    "my_index_endpoint = aiplatform.MatchingEngineIndexEndpoint(\"3274099336912306176\") # get number on console"
   ]
  },
  {
   "cell_type": "markdown",
   "id": "bf83680e-b6e5-4208-94a8-973454e7c010",
   "metadata": {
    "tags": []
   },
   "source": [
    "### Query index"
   ]
  },
  {
   "cell_type": "code",
   "execution_count": 61,
   "id": "8c738298-e760-447d-8115-e5828e21fa5e",
   "metadata": {},
   "outputs": [],
   "source": [
    "# run query\n",
    "\n",
    "def query_to_vector(query):\n",
    "    query_vector = vectorizer.transform([query]).toarray()\n",
    "    vector_reduced = pca.transform(query_vector).tolist()\n",
    "    return vector_reduced\n",
    "\n",
    "def get_results(query): \n",
    "    \n",
    "    vectorized_query = query_to_vector(QUERY)\n",
    "    \n",
    "    response = my_index_endpoint.find_neighbors(\n",
    "        deployed_index_id = \"product_name_1711133053130\",\n",
    "        queries = vectorized_query,\n",
    "        num_neighbors = 5\n",
    "    )\n",
    "\n",
    "    print(\"Results: \\n\")\n",
    "    # show the results\n",
    "    for idx, neighbor in enumerate(response[0]):\n",
    "        product_nm = df.loc[int(neighbor.id)][\"product_name\"]\n",
    "        print(f\"{neighbor.distance:.2f} {product_nm}\")"
   ]
  },
  {
   "cell_type": "code",
   "execution_count": 62,
   "id": "56ac3254-cc02-427a-8886-bdbed03caafc",
   "metadata": {
    "tags": []
   },
   "outputs": [
    {
     "name": "stdout",
     "output_type": "stream",
     "text": [
      "Results: \n",
      "\n",
      "0.64 abeyta solid wood bed\n",
      "0.64 montauk solid wood bed\n",
      "0.63 sumfleth solid wood bed\n",
      "0.63 anoeska solid wood bed\n",
      "0.61 ralphio solid wood bed\n"
     ]
    },
    {
     "name": "stderr",
     "output_type": "stream",
     "text": [
      "/opt/conda/envs/tensorflow/lib/python3.10/site-packages/sklearn/base.py:465: UserWarning: X does not have valid feature names, but PCA was fitted with feature names\n",
      "  warnings.warn(\n"
     ]
    }
   ],
   "source": [
    "QUERY = \"solid wood bed\"\n",
    "get_results(QUERY)"
   ]
  },
  {
   "cell_type": "markdown",
   "id": "d758880f-5c5e-435a-ba58-45e1fab2f65d",
   "metadata": {},
   "source": [
    "### CleanUp"
   ]
  },
  {
   "cell_type": "code",
   "execution_count": 60,
   "id": "b0c25961-a0c1-446f-bacc-fc67a2232362",
   "metadata": {
    "tags": []
   },
   "outputs": [
    {
     "name": "stdout",
     "output_type": "stream",
     "text": [
      "rm: cannot remove 'WANDS/': No such file or directory\n"
     ]
    }
   ],
   "source": [
    "!rm -r WANDS"
   ]
  },
  {
   "cell_type": "code",
   "execution_count": 65,
   "id": "5d4a5074-cedf-4cae-a72f-9b3e91a8e5f8",
   "metadata": {
    "tags": []
   },
   "outputs": [],
   "source": [
    "# wait for a confirmation\n",
    "input(\"Press Enter to delete Index Endpoint, Index and Cloud Storage bucket:\")\n",
    "\n",
    "# delete Index Endpoint\n",
    "my_index_endpoint.undeploy_all()\n",
    "my_index_endpoint.delete(force = True)"
   ]
  }
 ],
 "metadata": {
  "environment": {
   "kernel": "conda-env-tensorflow-tensorflow",
   "name": "workbench-notebooks.m113",
   "type": "gcloud",
   "uri": "gcr.io/deeplearning-platform-release/workbench-notebooks:m113"
  },
  "kernelspec": {
   "display_name": "TensorFlow 2-11 (Local)",
   "language": "python",
   "name": "conda-env-tensorflow-tensorflow"
  },
  "language_info": {
   "codemirror_mode": {
    "name": "ipython",
    "version": 3
   },
   "file_extension": ".py",
   "mimetype": "text/x-python",
   "name": "python",
   "nbconvert_exporter": "python",
   "pygments_lexer": "ipython3",
   "version": "3.10.13"
  }
 },
 "nbformat": 4,
 "nbformat_minor": 5
}
