{
 "cells": [
  {
   "cell_type": "markdown",
   "id": "3a38af16-8e2d-4cd3-bad7-1b8382ec3cbc",
   "metadata": {
    "tags": []
   },
   "source": [
    "# Embedding Encoding"
   ]
  },
  {
   "cell_type": "markdown",
   "id": "fdaf47ae-4bc1-4d88-9200-54c426092207",
   "metadata": {},
   "source": [
    "## Install and Import Python Packages"
   ]
  },
  {
   "cell_type": "code",
   "execution_count": 141,
   "id": "4433539e-05ed-402d-8def-d87b93a04761",
   "metadata": {},
   "outputs": [],
   "source": [
    "%%capture\n",
    "!pip3 install seaborn\n",
    "!pip3 install tensorflow\n",
    "!pip3 install tensorflow_hub\n",
    "!pip3 install tensorflow_datasets\n",
    "!pip install google-cloud-aiplatform"
   ]
  },
  {
   "cell_type": "code",
   "execution_count": 153,
   "id": "132b00b0-33a7-48ff-b1bf-765071f93dac",
   "metadata": {},
   "outputs": [],
   "source": [
    "from sklearn.feature_extraction.text import TfidfVectorizer\n",
    "from sklearn.decomposition import PCA\n",
    "import pandas as pd\n",
    "import numpy as np\n",
    "import os\n",
    "import csv\n",
    "from typing import Generator, List, Tuple, Optional\n",
    "from concurrent.futures import ThreadPoolExecutor\n",
    "from tqdm.auto import tqdm\n",
    "import math\n",
    "import functools\n",
    "from typing import List, Optional\n",
    "import time\n",
    "import vertexai\n",
    "from google.cloud import aiplatform\n",
    "from vertexai.language_models import TextEmbeddingModel\n",
    "from sklearn.metrics.pairwise import cosine_similarity\n"
   ]
  },
  {
   "cell_type": "markdown",
   "id": "05edfecb-6311-41b2-a60a-1126175c9aaa",
   "metadata": {},
   "source": [
    "## Remove existing metadata and coeffecients"
   ]
  },
  {
   "cell_type": "code",
   "execution_count": 143,
   "id": "6e49b9d0-e907-4a45-87f6-4507827104a9",
   "metadata": {},
   "outputs": [],
   "source": [
    "!rm -r tmp\n",
    "!rm -r tmp2 # for gecko embeddings (not currently used)"
   ]
  },
  {
   "cell_type": "markdown",
   "id": "b3faf249-c83a-4e6c-a5cf-cda7b40a82e3",
   "metadata": {},
   "source": [
    "## Create metadata path "
   ]
  },
  {
   "cell_type": "code",
   "execution_count": 144,
   "id": "14144bf6-b53d-4f44-a318-e95bdabbdb2b",
   "metadata": {},
   "outputs": [],
   "source": [
    "import os\n",
    "\n",
    "log_dir='tmp'\n",
    "if not os.path.exists(log_dir):\n",
    "    os.makedirs(log_dir)\n",
    "    \n",
    "log_dir='tmp2' # for gecko embedding (not currently used)\n",
    "if not os.path.exists(log_dir):\n",
    "    os.makedirs(log_dir)"
   ]
  },
  {
   "cell_type": "markdown",
   "id": "0dff4ebb-163d-456e-9c53-74184bcfde20",
   "metadata": {
    "tags": []
   },
   "source": [
    "## Load Business Descriptions from BigQuery into Pandas Dataframe\n",
    "Select ~10,000 samples from 100 million rows"
   ]
  },
  {
   "cell_type": "code",
   "execution_count": null,
   "id": "deb435a7-0ff5-4726-bef5-558820e3c547",
   "metadata": {},
   "outputs": [],
   "source": []
  },
  {
   "cell_type": "markdown",
   "id": "2daae111-ec16-4a56-a64c-b1a69ac7c503",
   "metadata": {},
   "source": [
    "### Test some filters"
   ]
  },
  {
   "cell_type": "code",
   "execution_count": 145,
   "id": "92896259-535b-43e2-b017-58db07ae4d19",
   "metadata": {},
   "outputs": [
    {
     "data": {
      "application/vnd.jupyter.widget-view+json": {
       "model_id": "11ef85ce2e9545a2b0cc1e14f7ac71d9",
       "version_major": 2,
       "version_minor": 0
      },
      "text/plain": [
       "Query is running:   0%|          |"
      ]
     },
     "metadata": {},
     "output_type": "display_data"
    },
    {
     "data": {
      "application/vnd.jupyter.widget-view+json": {
       "model_id": "11c828767b384aaaab14666f836d648e",
       "version_major": 2,
       "version_minor": 0
      },
      "text/plain": [
       "Downloading:   0%|          |"
      ]
     },
     "metadata": {},
     "output_type": "display_data"
    }
   ],
   "source": [
    "%%bigquery examples --project cf-data-analytics\n",
    "SELECT\n",
    "     *\n",
    " FROM\n",
    "   `cf-data-analytics.us_businesses.description_v3`\n",
    "WHERE name like \"%Equifax%\"\n"
   ]
  },
  {
   "cell_type": "code",
   "execution_count": 146,
   "id": "3eaadfab-c5b3-4564-8685-250d7fef6529",
   "metadata": {
    "tags": []
   },
   "outputs": [
    {
     "data": {
      "text/plain": [
       "'Equifax Workforce Solutions is located in the US and best described as a Equifax Workforce Solutions, formerly known as TALX, is a wholly owned subsidiary of Equifax. It is based in St. Louis, Missouri. The company was originally founded in 1972 under the name Interface Technology Inc. The company maintains a database named The Work Number that holds and maintains employment and payroll information on 54 million American people. As of 2015, the company was the largest source of employment information in the United States, and collects information from over 7,000 employers.. They are based in St. Louis MO 63146 and their address is 11432 Lackland Rd. They operate in the Credit reporting services industry.'"
      ]
     },
     "execution_count": 146,
     "metadata": {},
     "output_type": "execute_result"
    }
   ],
   "source": [
    "examples[examples['name'].str.contains('Equifax')][\"summary\"][0]"
   ]
  },
  {
   "cell_type": "markdown",
   "id": "6566c631-843b-4233-85cc-283074d18e80",
   "metadata": {},
   "source": [
    "### Download Businesses"
   ]
  },
  {
   "cell_type": "code",
   "execution_count": 147,
   "id": "d621511e-4627-48b3-9a38-4f147129ecf9",
   "metadata": {
    "tags": []
   },
   "outputs": [
    {
     "data": {
      "application/vnd.jupyter.widget-view+json": {
       "model_id": "6b78a4e8c2b44e3aae17ad6d850595bc",
       "version_major": 2,
       "version_minor": 0
      },
      "text/plain": [
       "Query is running:   0%|          |"
      ]
     },
     "metadata": {},
     "output_type": "display_data"
    },
    {
     "data": {
      "application/vnd.jupyter.widget-view+json": {
       "model_id": "d331948b1bbc4f49944897ca68315434",
       "version_major": 2,
       "version_minor": 0
      },
      "text/plain": [
       "Downloading:   0%|          |"
      ]
     },
     "metadata": {},
     "output_type": "display_data"
    }
   ],
   "source": [
    "%%bigquery df\n",
    "SELECT\n",
    "     name,\n",
    "     description,\n",
    "     country,\n",
    "     LANGUAGE as language,\n",
    "     postal,\n",
    "     city,\n",
    "     state,\n",
    "    address_l1 as address,\n",
    "    summary,\n",
    "    CONCAT(name,\" \",country,\" \",state,\" \",city,\" \",postal,\" \",address_l1) AS location\n",
    "    \n",
    "FROM `cf-data-analytics.us_businesses.description_v3`\n",
    "   #WHERE RAND() < 100000/(SELECT COUNT(*) FROM `cf-data-analytics.us_businesses.description_v2`) # selectm random rows\n",
    "   WHERE summary like \"%Credit%\" or summary like '%credit%'\n",
    "   and description is not null\n",
    "   and country is not null\n",
    "   and language = \"EN\"\n",
    "   and state is not null\n",
    "   and industry is not null\n",
    "   and address_l1 is not null\n",
    "   and summary is not null\n",
    "   and summary != 'None'\n"
   ]
  },
  {
   "cell_type": "code",
   "execution_count": 148,
   "id": "f49744ee-e008-4a59-80fe-403aaaa2e84e",
   "metadata": {},
   "outputs": [],
   "source": [
    "df = df.replace('\\n','', regex=True)"
   ]
  },
  {
   "cell_type": "code",
   "execution_count": 149,
   "id": "98677768-f095-4887-8b8d-33ca3c8e2667",
   "metadata": {},
   "outputs": [
    {
     "data": {
      "text/plain": [
       "19101"
      ]
     },
     "execution_count": 149,
     "metadata": {},
     "output_type": "execute_result"
    }
   ],
   "source": [
    "len(df)"
   ]
  },
  {
   "cell_type": "code",
   "execution_count": 150,
   "id": "66744ad7-6a59-4f53-b034-4b9bd9e26649",
   "metadata": {},
   "outputs": [
    {
     "data": {
      "text/html": [
       "<div>\n",
       "<style scoped>\n",
       "    .dataframe tbody tr th:only-of-type {\n",
       "        vertical-align: middle;\n",
       "    }\n",
       "\n",
       "    .dataframe tbody tr th {\n",
       "        vertical-align: top;\n",
       "    }\n",
       "\n",
       "    .dataframe thead th {\n",
       "        text-align: right;\n",
       "    }\n",
       "</style>\n",
       "<table border=\"1\" class=\"dataframe\">\n",
       "  <thead>\n",
       "    <tr style=\"text-align: right;\">\n",
       "      <th></th>\n",
       "      <th>name</th>\n",
       "      <th>description</th>\n",
       "      <th>country</th>\n",
       "      <th>language</th>\n",
       "      <th>postal</th>\n",
       "      <th>city</th>\n",
       "      <th>state</th>\n",
       "      <th>address</th>\n",
       "      <th>summary</th>\n",
       "      <th>location</th>\n",
       "    </tr>\n",
       "  </thead>\n",
       "  <tbody>\n",
       "    <tr>\n",
       "      <th>0</th>\n",
       "      <td>Yamamoto Credit Jewelers</td>\n",
       "      <td>Ret jewelry</td>\n",
       "      <td>US</td>\n",
       "      <td>EN</td>\n",
       "      <td>96720</td>\n",
       "      <td>Hilo</td>\n",
       "      <td>HI</td>\n",
       "      <td>168 Kamehameha Ave</td>\n",
       "      <td>Yamamoto Credit Jewelers is located in the US ...</td>\n",
       "      <td>Yamamoto Credit Jewelers US HI Hilo 96720 168 ...</td>\n",
       "    </tr>\n",
       "    <tr>\n",
       "      <th>1</th>\n",
       "      <td>Catholic Legal Immigration Network</td>\n",
       "      <td>Catholic Legal Immigration Network, Inc. is th...</td>\n",
       "      <td>US</td>\n",
       "      <td>EN</td>\n",
       "      <td>20017</td>\n",
       "      <td>Washington</td>\n",
       "      <td>DC</td>\n",
       "      <td>415 Michigan Ave NE</td>\n",
       "      <td>Catholic Legal Immigration Network is located ...</td>\n",
       "      <td>Catholic Legal Immigration Network US DC Washi...</td>\n",
       "    </tr>\n",
       "    <tr>\n",
       "      <th>2</th>\n",
       "      <td>花旗銀行</td>\n",
       "      <td>The company operates as a bank. Its products a...</td>\n",
       "      <td>US</td>\n",
       "      <td>EN</td>\n",
       "      <td>57108</td>\n",
       "      <td>Sioux Falls</td>\n",
       "      <td>SD</td>\n",
       "      <td>5800 S Corporate Pl</td>\n",
       "      <td>花旗銀行 is located in the US and best described a...</td>\n",
       "      <td>花旗銀行 US SD Sioux Falls 57108 5800 S Corporate Pl</td>\n",
       "    </tr>\n",
       "  </tbody>\n",
       "</table>\n",
       "</div>"
      ],
      "text/plain": [
       "                                 name  \\\n",
       "0            Yamamoto Credit Jewelers   \n",
       "1  Catholic Legal Immigration Network   \n",
       "2                                花旗銀行   \n",
       "\n",
       "                                         description country language postal  \\\n",
       "0                                        Ret jewelry      US       EN  96720   \n",
       "1  Catholic Legal Immigration Network, Inc. is th...      US       EN  20017   \n",
       "2  The company operates as a bank. Its products a...      US       EN  57108   \n",
       "\n",
       "          city state              address  \\\n",
       "0         Hilo    HI   168 Kamehameha Ave   \n",
       "1   Washington    DC  415 Michigan Ave NE   \n",
       "2  Sioux Falls    SD  5800 S Corporate Pl   \n",
       "\n",
       "                                             summary  \\\n",
       "0  Yamamoto Credit Jewelers is located in the US ...   \n",
       "1  Catholic Legal Immigration Network is located ...   \n",
       "2  花旗銀行 is located in the US and best described a...   \n",
       "\n",
       "                                            location  \n",
       "0  Yamamoto Credit Jewelers US HI Hilo 96720 168 ...  \n",
       "1  Catholic Legal Immigration Network US DC Washi...  \n",
       "2   花旗銀行 US SD Sioux Falls 57108 5800 S Corporate Pl  "
      ]
     },
     "execution_count": 150,
     "metadata": {},
     "output_type": "execute_result"
    }
   ],
   "source": [
    "df.head(3)"
   ]
  },
  {
   "cell_type": "markdown",
   "id": "9aa10627-f0f4-4f52-941a-cd32ca27bec9",
   "metadata": {},
   "source": [
    "## Convert Description to Embeddings"
   ]
  },
  {
   "cell_type": "markdown",
   "id": "d806845d-0852-4134-8c0d-8d24c470de0c",
   "metadata": {},
   "source": [
    "### Semantic Embeddings"
   ]
  },
  {
   "cell_type": "code",
   "execution_count": 123,
   "id": "62d3e939-97cc-44ef-b8eb-fe2d1d0eb0a4",
   "metadata": {},
   "outputs": [],
   "source": [
    "summary_lst = df['summary'].values.tolist() # convert to list; required for tensor conversion\n",
    "location_lst = df['name'].values.tolist() "
   ]
  },
  {
   "cell_type": "code",
   "execution_count": 124,
   "id": "5a3c97dd-5fc5-4eb8-9e13-26ff20c8301e",
   "metadata": {},
   "outputs": [],
   "source": [
    "aiplatform.init(project='cf-data-analytics')\n",
    "model = TextEmbeddingModel.from_pretrained(\"textembedding-gecko@001\")\n",
    "\n",
    "def encode_texts_to_embeddings(sentences: List[str]) -> List[Optional[List[float]]]:\n",
    "    try:\n",
    "        embeddings = model.get_embeddings(sentences)\n",
    "        return [embedding.values for embedding in embeddings]\n",
    "    except Exception:\n",
    "        return [None for _ in range(len(sentences))]\n",
    "def generate_batches(\n",
    "    sentences: List[str], batch_size: int\n",
    ") -> Generator[List[str], None, None]:\n",
    "    for i in range(0, len(sentences), batch_size):\n",
    "        yield sentences[i : i + batch_size]\n",
    "\n",
    "def encode_text_to_embedding_batched(\n",
    "    sentences: List[str], api_calls_per_second: int = 10, batch_size: int = 5\n",
    ") -> Tuple[List[bool], np.ndarray]:\n",
    "\n",
    "    embeddings_list: List[List[float]] = []\n",
    "\n",
    "    # Prepare the batches using a generator\n",
    "    batches = generate_batches(sentences, batch_size)\n",
    "\n",
    "    seconds_per_job = 1 / api_calls_per_second\n",
    "\n",
    "    with ThreadPoolExecutor() as executor:\n",
    "        futures = []\n",
    "        for batch in tqdm(\n",
    "            batches, total=math.ceil(len(sentences) / batch_size), position=0\n",
    "        ):\n",
    "            futures.append(\n",
    "                executor.submit(functools.partial(encode_texts_to_embeddings), batch)\n",
    "            )\n",
    "            time.sleep(seconds_per_job)\n",
    "\n",
    "        for future in futures:\n",
    "            embeddings_list.extend(future.result())\n",
    "\n",
    "    is_successful = [\n",
    "        embedding is not None for sentence, embedding in zip(sentences, embeddings_list)\n",
    "    ]\n",
    "    embeddings_list_successful = np.squeeze(\n",
    "        np.stack([embedding for embedding in embeddings_list if embedding is not None])\n",
    "    )\n",
    "    return is_successful, embeddings_list_successful"
   ]
  },
  {
   "cell_type": "code",
   "execution_count": 125,
   "id": "14ef538e-6ee2-4319-a35c-20fa72bfdac0",
   "metadata": {},
   "outputs": [
    {
     "data": {
      "application/vnd.jupyter.widget-view+json": {
       "model_id": "5e23ecb067804ae289398ea0a24ea2dc",
       "version_major": 2,
       "version_minor": 0
      },
      "text/plain": [
       "  0%|          | 0/3821 [00:00<?, ?it/s]"
      ]
     },
     "metadata": {},
     "output_type": "display_data"
    }
   ],
   "source": [
    "is_successful, semantic_emb = encode_text_to_embedding_batched(df[\"summary\"])"
   ]
  },
  {
   "cell_type": "code",
   "execution_count": 151,
   "id": "6342a06b-9ea6-45aa-a490-0f36eee464d9",
   "metadata": {
    "tags": []
   },
   "outputs": [],
   "source": [
    "# get tf-idf embeddings for names\n",
    "\n",
    "from sklearn.feature_extraction.text import TfidfVectorizer\n",
    "vectorizer = TfidfVectorizer(max_features=10000,analyzer='char', ngram_range=(2,5))\n",
    "tfidf_matrix = vectorizer.fit_transform(location_lst)\n",
    "\n",
    "# Get feature names (vocabulary)\n",
    "feature_names = vectorizer.get_feature_names_out()\n",
    "\n",
    "# Convert the sparse matrix to a dense array \n",
    "tfidf_emb = tfidf_matrix.toarray()\n",
    "\n",
    "# Create a DataFrame (optional)\n",
    "df_tfidf = pd.DataFrame(tfidf_emb, columns=feature_names)"
   ]
  },
  {
   "cell_type": "code",
   "execution_count": 166,
   "id": "236dbd61-74a5-4ebf-a2cc-c98050cf3d82",
   "metadata": {},
   "outputs": [],
   "source": [
    "def get_tf_idf_query_similarity(vectorizer, docs_tfidf, query):\n",
    "    \"\"\"\n",
    "    vectorizer: TfIdfVectorizer model\n",
    "    docs_tfidf: tfidf vectors for all docs\n",
    "    query: query doc\n",
    "\n",
    "    return: cosine similarity between query and all docs\n",
    "    \"\"\"\n",
    "    query_tfidf = vectorizer.transform([query])\n",
    "    cosineSimilarities = cosine_similarity(query_tfidf, docs_tfidf).flatten()\n",
    "    return cosineSimilarities\n",
    "\n",
    "similarities = get_tf_idf_query_similarity(vectorizer, tfidf_matrix, \"United Parcel Service\")"
   ]
  },
  {
   "cell_type": "code",
   "execution_count": 177,
   "id": "fc558955-2091-47c0-95fd-b271a61e05cc",
   "metadata": {},
   "outputs": [
    {
     "name": "stdout",
     "output_type": "stream",
     "text": [
      "United Parcel Service Credit Union\n",
      "0.8916386187438192\n",
      "United Services Credit Union\n",
      "0.4742094204093619\n",
      "Third Party Mvs Services Inc.\n",
      "0.38841085279662396\n",
      "K 3 Services\n",
      "0.38389258320394\n",
      "Ip Services\n",
      "0.3775555020110155\n"
     ]
    }
   ],
   "source": [
    "top_indices = np.argpartition(similarities, -5)[-5:][::-1]\n",
    "for ind in top_indices:\n",
    "    print(location_lst[ind])\n",
    "    print(similarities[ind])\n",
    "    "
   ]
  },
  {
   "cell_type": "code",
   "execution_count": 174,
   "id": "25d174b6-8010-47a5-a008-360956e39a44",
   "metadata": {},
   "outputs": [
    {
     "data": {
      "text/plain": [
       "array([ 9054,     0,     2, ...,  1145, 11549, 14002])"
      ]
     },
     "execution_count": 174,
     "metadata": {},
     "output_type": "execute_result"
    }
   ],
   "source": [
    "np.argpartition(similarities, -5)"
   ]
  },
  {
   "cell_type": "code",
   "execution_count": 127,
   "id": "1f5b9242-1d08-4f70-b22c-13b07fec6827",
   "metadata": {},
   "outputs": [
    {
     "name": "stdout",
     "output_type": "stream",
     "text": [
      "10000\n"
     ]
    }
   ],
   "source": [
    "print(len(tfidf_emb[0]))\n",
    "#print(len(semantic_emb[0]))"
   ]
  },
  {
   "cell_type": "code",
   "execution_count": 128,
   "id": "a280f7fc-5228-4028-8401-78b051a816ce",
   "metadata": {
    "tags": []
   },
   "outputs": [],
   "source": [
    "# Concatenate based on index\n",
    "combined_emb = np.concatenate((tfidf_emb, semantic_emb), axis=1)"
   ]
  },
  {
   "cell_type": "code",
   "execution_count": 129,
   "id": "31295d65-a0e3-4691-a6dc-f0dccfcf590e",
   "metadata": {},
   "outputs": [
    {
     "data": {
      "text/plain": [
       "19101"
      ]
     },
     "execution_count": 129,
     "metadata": {},
     "output_type": "execute_result"
    }
   ],
   "source": [
    "len(combined_emb)"
   ]
  },
  {
   "cell_type": "code",
   "execution_count": 130,
   "id": "e4611430-6091-4002-be42-65b2c28f054a",
   "metadata": {},
   "outputs": [
    {
     "data": {
      "text/plain": [
       "10768"
      ]
     },
     "execution_count": 130,
     "metadata": {},
     "output_type": "execute_result"
    }
   ],
   "source": [
    "len(combined_emb[0])"
   ]
  },
  {
   "cell_type": "markdown",
   "id": "a17fcd65-6136-431d-91df-9556dd59219c",
   "metadata": {},
   "source": [
    "### Dimensionality Reduction"
   ]
  },
  {
   "cell_type": "code",
   "execution_count": 131,
   "id": "0d3b12a2-5e9d-484b-80da-655a9375b643",
   "metadata": {},
   "outputs": [],
   "source": [
    "pca = PCA(n_components=500) \n",
    "emb_reduced = pca.fit_transform(combined_emb)"
   ]
  },
  {
   "cell_type": "code",
   "execution_count": 132,
   "id": "6e39b4f5-c3e9-499d-be73-abbd9a6a6144",
   "metadata": {},
   "outputs": [
    {
     "data": {
      "text/plain": [
       "500"
      ]
     },
     "execution_count": 132,
     "metadata": {},
     "output_type": "execute_result"
    }
   ],
   "source": [
    "len(emb_reduced[0])"
   ]
  },
  {
   "cell_type": "markdown",
   "id": "101f84ba-94e2-4a9c-9296-c4d1c7bb2f16",
   "metadata": {},
   "source": [
    "## Export to TSV"
   ]
  },
  {
   "cell_type": "code",
   "execution_count": 133,
   "id": "e77e17f2-80a0-497c-8dcb-7473b6ab8ba1",
   "metadata": {},
   "outputs": [],
   "source": [
    "df[\"Index\"] = df.index+1"
   ]
  },
  {
   "cell_type": "code",
   "execution_count": 134,
   "id": "38fcc99f-1893-475b-b0fc-c7de7ed8ab4d",
   "metadata": {},
   "outputs": [
    {
     "data": {
      "text/plain": [
       "19101"
      ]
     },
     "execution_count": 134,
     "metadata": {},
     "output_type": "execute_result"
    }
   ],
   "source": [
    "len(df)"
   ]
  },
  {
   "cell_type": "code",
   "execution_count": 135,
   "id": "19134901-cd4f-422d-866b-9554ad248cb8",
   "metadata": {},
   "outputs": [],
   "source": [
    "col_lst = [] # create a list of column names\n",
    "for col in df.columns:\n",
    "  col_lst.append(col)\n",
    "\n",
    "col_array = np.array([col_lst])\n",
    "labels = np.concatenate((col_array, df), axis=0)\n"
   ]
  },
  {
   "cell_type": "code",
   "execution_count": 136,
   "id": "b985dec8-cc6e-4bec-b9b5-591a4e1b30f9",
   "metadata": {},
   "outputs": [],
   "source": [
    "def save_tsv(labels, filepath, log_dir):\n",
    "    with open(os.path.join(log_dir, filepath), 'w') as f:\n",
    "      writer = csv.writer(f, delimiter='\\t')\n",
    "      writer.writerows(labels) # write labels"
   ]
  },
  {
   "cell_type": "code",
   "execution_count": 137,
   "id": "09f01f25-9aa0-4458-9e30-80bca28215b8",
   "metadata": {},
   "outputs": [
    {
     "name": "stdout",
     "output_type": "stream",
     "text": [
      "19101\n",
      "19102\n"
     ]
    }
   ],
   "source": [
    "print(len(emb_reduced))\n",
    "print(len(labels))"
   ]
  },
  {
   "cell_type": "code",
   "execution_count": 138,
   "id": "43528de9-b69e-4399-85f7-faf59423b121",
   "metadata": {},
   "outputs": [],
   "source": [
    "LOG_DIR = \"tmp\"\n",
    "save_tsv(emb_reduced, \"embeddings.tsv\", LOG_DIR) # save .tsv metadata\n",
    "save_tsv(labels, \"labels.tsv\", LOG_DIR) # save .tsv metadata"
   ]
  },
  {
   "cell_type": "code",
   "execution_count": 139,
   "id": "de634c14-4b09-4f74-9ab4-1198ed38a0a2",
   "metadata": {},
   "outputs": [
    {
     "data": {
      "text/plain": [
       "19101"
      ]
     },
     "execution_count": 139,
     "metadata": {},
     "output_type": "execute_result"
    }
   ],
   "source": [
    "len(emb_reduced)"
   ]
  },
  {
   "cell_type": "code",
   "execution_count": 140,
   "id": "187d11be-003f-4d06-9f3b-316d684165db",
   "metadata": {},
   "outputs": [
    {
     "data": {
      "text/plain": [
       "19102"
      ]
     },
     "execution_count": 140,
     "metadata": {},
     "output_type": "execute_result"
    }
   ],
   "source": [
    "len(labels)"
   ]
  },
  {
   "cell_type": "markdown",
   "id": "74c3de89-44a4-48ad-98c2-361fb8d5b069",
   "metadata": {},
   "source": [
    "### go to go/embedding-projector"
   ]
  }
 ],
 "metadata": {
  "environment": {
   "kernel": "python3",
   "name": "tf2-gpu.2-11.m110",
   "type": "gcloud",
   "uri": "gcr.io/deeplearning-platform-release/tf2-gpu.2-11:m110"
  },
  "kernelspec": {
   "display_name": "Python 3",
   "language": "python",
   "name": "python3"
  },
  "language_info": {
   "codemirror_mode": {
    "name": "ipython",
    "version": 3
   },
   "file_extension": ".py",
   "mimetype": "text/x-python",
   "name": "python",
   "nbconvert_exporter": "python",
   "pygments_lexer": "ipython3",
   "version": "3.10.12"
  }
 },
 "nbformat": 4,
 "nbformat_minor": 5
}
